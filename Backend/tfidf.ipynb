{
 "cells": [
  {
   "cell_type": "code",
   "execution_count": 34,
   "metadata": {
    "collapsed": true
   },
   "outputs": [],
   "source": [
    "import glob\n",
    "from hazm import *\n",
    "import codecs\n",
    "import tqdm\n",
    "import numpy as np\n",
    "from sklearn.feature_extraction.text import TfidfVectorizer\n",
    "import yaml\n",
    "import matplotlib.pyplot as plt\n",
    "from tokenizers import Tokenizer, models, pre_tokenizers, decoders, trainers, processors\n",
    "from gensim.models import FastText\n",
    "from gensim.models import Word2Vec\n",
    "\n",
    "normalizer = Normalizer()\n",
    "stemmer = Stemmer()\n",
    "lemmatizer = Lemmatizer()\n",
    "import pandas as pd\n"
   ]
  },
  {
   "cell_type": "code",
   "execution_count": 35,
   "outputs": [],
   "source": [
    "\n",
    "def get_cleaned_text(text):\n",
    "    text = normalizer.normalize(text)\n",
    "    tokens = word_tokenize(text)\n",
    "    refined_tokens = []\n",
    "    for token in tokens:\n",
    "        token = lemmatizer.lemmatize(token)\n",
    "        refined_tokens.append(token)\n",
    "    return ' '.join(refined_tokens)\n",
    "\n",
    "def get_query_similarity(query_vector, tfidf, tfidf_array, wv_tfidf):\n",
    "    dot_product = tfidf_array * query_vector\n",
    "    similarity = np.sum(dot_product, axis = 1)\n",
    "    return similarity"
   ],
   "metadata": {
    "collapsed": false,
    "pycharm": {
     "name": "#%%\n"
    }
   }
  },
  {
   "cell_type": "code",
   "execution_count": 36,
   "outputs": [],
   "source": [
    "poets = glob.glob('normalized/*.txt')\n",
    "poems = []\n",
    "\n",
    "for poem_file in poets:\n",
    "    with open(poem_file, encoding='utf-8', mode='r') as fp:\n",
    "        line = fp.readline()\n",
    "        cnt = 1\n",
    "        box = ''\n",
    "        while line:\n",
    "            if line.strip() != '':\n",
    "                box = box + ' ' + line.strip()\n",
    "                if cnt % 8 == 0:\n",
    "                    poems.append(box.strip())\n",
    "                    box = ''\n",
    "                cnt += 1\n",
    "            line = fp.readline()\n"
   ],
   "metadata": {
    "collapsed": false,
    "pycharm": {
     "name": "#%%\n"
    }
   }
  },
  {
   "cell_type": "code",
   "execution_count": 37,
   "outputs": [],
   "source": [
    "df = pd.DataFrame(poems)\n",
    "df[0] = df[0].apply(lambda x: word_tokenize(x))"
   ],
   "metadata": {
    "collapsed": false,
    "pycharm": {
     "name": "#%%\n"
    }
   }
  },
  {
   "cell_type": "code",
   "execution_count": 41,
   "outputs": [],
   "source": [
    "vectorizer_tfidf = TfidfVectorizer(norm='l2', tokenizer=word_tokenize, max_df=0.8, max_features=10000 )\n",
    "X = vectorizer_tfidf.fit_transform(poems)\n",
    "X = X.toarray()\n",
    "X = np.float32(X)"
   ],
   "metadata": {
    "collapsed": false,
    "pycharm": {
     "name": "#%%\n"
    }
   }
  },
  {
   "cell_type": "code",
   "execution_count": 42,
   "outputs": [],
   "source": [
    "query = 'عشق خیلی بد است'\n",
    "query_vector = vectorizer_tfidf.transform([query]).toarray()"
   ],
   "metadata": {
    "collapsed": false,
    "pycharm": {
     "name": "#%%\n"
    }
   }
  },
  {
   "cell_type": "code",
   "execution_count": 43,
   "outputs": [
    {
     "name": "stdout",
     "output_type": "stream",
     "text": [
      "2163.9020371074616\n"
     ]
    }
   ],
   "source": [
    "dot_product =  X * query_vector\n",
    "\n",
    "print(sum(sum(dot_product)))\n"
   ],
   "metadata": {
    "collapsed": false,
    "pycharm": {
     "name": "#%%\n"
    }
   }
  },
  {
   "cell_type": "code",
   "execution_count": 44,
   "outputs": [],
   "source": [
    "similarity = np.sum(dot_product, axis = 1)\n",
    "\n",
    "relevance_order = np.argsort(similarity)[::-1]\n"
   ],
   "metadata": {
    "collapsed": false,
    "pycharm": {
     "name": "#%%\n"
    }
   }
  },
  {
   "cell_type": "code",
   "execution_count": 45,
   "outputs": [
    {
     "data": {
      "text/plain": "array([99106, 52569, 99057, ..., 59829, 59830, 51302], dtype=int64)"
     },
     "execution_count": 45,
     "metadata": {},
     "output_type": "execute_result"
    }
   ],
   "source": [
    "relevance_order"
   ],
   "metadata": {
    "collapsed": false,
    "pycharm": {
     "name": "#%%\n"
    }
   }
  },
  {
   "cell_type": "code",
   "execution_count": 46,
   "outputs": [
    {
     "name": "stdout",
     "output_type": "stream",
     "text": [
      "عشق است که زنده دل از آنیم عشق است که جان جاودان است عاشق چو غلام و عشق سلطان عشق است که شاه عاشقان است عشق است که عقل بنده اوست عشق است که سید زمان است جانست که در بدن روانست عالم بدن است و عشق جانست\n"
     ]
    }
   ],
   "source": [
    "print(poems[relevance_order[0]])\n"
   ],
   "metadata": {
    "collapsed": false,
    "pycharm": {
     "name": "#%%\n"
    }
   }
  },
  {
   "cell_type": "code",
   "execution_count": 47,
   "outputs": [
    {
     "data": {
      "text/plain": "2163.9020371074603"
     },
     "execution_count": 47,
     "metadata": {},
     "output_type": "execute_result"
    }
   ],
   "source": [
    "np.sum(similarity)\n",
    "\n",
    "\n"
   ],
   "metadata": {
    "collapsed": false,
    "pycharm": {
     "name": "#%%\n"
    }
   }
  },
  {
   "cell_type": "code",
   "execution_count": 48,
   "outputs": [],
   "source": [
    "import pickle\n",
    "\n",
    "with open('vectorizer_tfidf','wb') as f: pickle.dump(vectorizer_tfidf, f)\n",
    "with open('X_toarray','wb') as f: pickle.dump(X, f)\n",
    "with open('poems','wb') as f: pickle.dump(poems, f)"
   ],
   "metadata": {
    "collapsed": false,
    "pycharm": {
     "name": "#%%\n"
    }
   }
  },
  {
   "cell_type": "code",
   "execution_count": null,
   "outputs": [],
   "source": [
    "import pickle\n",
    "import numpy as np\n",
    "with open('poems','rb') as f: poems = pickle.load(f)\n",
    "with open('vectorizer_tfidf','rb') as f: vectorizer_tfidf = pickle.load(f)\n",
    "with open('X_toarray','rb') as f: X_toarray = pickle.load(f)\n",
    "query = 'عشق خیلی بد است'\n",
    "query_vector = vectorizer_tfidf.transform([query]).toarray()\n",
    "dot_product =  X_toarray * query_vector\n",
    "similarity = np.sum(dot_product, axis = 1)\n",
    "\n",
    "relevance_order = np.argsort(similarity)[::-1]\n",
    "print(poems[relevance_order[0]])\n"
   ],
   "metadata": {
    "collapsed": false,
    "pycharm": {
     "name": "#%%\n"
    }
   }
  }
 ],
 "metadata": {
  "kernelspec": {
   "name": "pycharm-d7999b95",
   "language": "python",
   "display_name": "PyCharm (deep_hw2_q5)"
  },
  "language_info": {
   "codemirror_mode": {
    "name": "ipython",
    "version": 2
   },
   "file_extension": ".py",
   "mimetype": "text/x-python",
   "name": "python",
   "nbconvert_exporter": "python",
   "pygments_lexer": "ipython2",
   "version": "2.7.6"
  }
 },
 "nbformat": 4,
 "nbformat_minor": 0
}