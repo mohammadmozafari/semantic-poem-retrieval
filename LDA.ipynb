{
 "cells": [
  {
   "cell_type": "code",
   "execution_count": 163,
   "id": "1c2ee43c",
   "metadata": {},
   "outputs": [
    {
     "name": "stdout",
     "output_type": "stream",
     "text": [
      "The autoreload extension is already loaded. To reload it, use:\n",
      "  %reload_ext autoreload\n"
     ]
    }
   ],
   "source": [
    "%load_ext autoreload\n",
    "%autoreload 2"
   ]
  },
  {
   "cell_type": "code",
   "execution_count": 164,
   "id": "f2720af7",
   "metadata": {},
   "outputs": [],
   "source": [
    "import base64\n",
    "import re\n",
    "from tqdm import tqdm\n",
    "import numpy as np\n",
    "import pandas as pd\n",
    "pd.set_option('display.width', None)\n",
    "pd.set_option('display.max_columns', None)\n",
    "pd.set_option('display.max_colwidth', 0)\n",
    "import warnings\n",
    "warnings.filterwarnings(\"ignore\")\n",
    "import matplotlib.pyplot as plt"
   ]
  },
  {
   "cell_type": "code",
   "execution_count": 165,
   "id": "0a238f7c",
   "metadata": {},
   "outputs": [],
   "source": [
    "import pandas as pd\n",
    "\n",
    "\n",
    "df = pd.read_csv(r'./mesra.txt', names=['mesra'], header=None)\n",
    "df['beyt index'] = df.index // 2\n",
    "df = df.groupby(['beyt index']).agg({'mesra': ' '.join})\n",
    "df = df.rename(columns={'mesra':'beyt'})"
   ]
  },
  {
   "cell_type": "code",
   "execution_count": 166,
   "id": "1d204e02",
   "metadata": {},
   "outputs": [
    {
     "data": {
      "text/html": [
       "<div>\n",
       "<style scoped>\n",
       "    .dataframe tbody tr th:only-of-type {\n",
       "        vertical-align: middle;\n",
       "    }\n",
       "\n",
       "    .dataframe tbody tr th {\n",
       "        vertical-align: top;\n",
       "    }\n",
       "\n",
       "    .dataframe thead th {\n",
       "        text-align: right;\n",
       "    }\n",
       "</style>\n",
       "<table border=\"1\" class=\"dataframe\">\n",
       "  <thead>\n",
       "    <tr style=\"text-align: right;\">\n",
       "      <th></th>\n",
       "      <th>beyt</th>\n",
       "    </tr>\n",
       "    <tr>\n",
       "      <th>beyt index</th>\n",
       "      <th></th>\n",
       "    </tr>\n",
       "  </thead>\n",
       "  <tbody>\n",
       "    <tr>\n",
       "      <th>0</th>\n",
       "      <td>الا یا ایها الساقی ادر کاسا و ناولها که عشق آسان نمود اول ولی افتاد مشکل‌ها</td>\n",
       "    </tr>\n",
       "    <tr>\n",
       "      <th>1</th>\n",
       "      <td>به بوی نافه‌ای کاخر صبا زان طره بگشاید ز تاب جعد مشکینش چه خون افتاد در دل‌ها</td>\n",
       "    </tr>\n",
       "    <tr>\n",
       "      <th>2</th>\n",
       "      <td>مرا در منزل جانان چه امن عیش چون هر دم جرس فریاد می‌دارد که بربندید محمل‌ها</td>\n",
       "    </tr>\n",
       "    <tr>\n",
       "      <th>3</th>\n",
       "      <td>به می سجاده رنگین کن گرت پیر مغان گوید که سالک بی‌خبر نبود ز راه و رسم منزل‌ها</td>\n",
       "    </tr>\n",
       "    <tr>\n",
       "      <th>4</th>\n",
       "      <td>شب تاریک و بیم موج و گردابی چنین هایل کجا دانند حال ما سبکباران ساحل‌ها</td>\n",
       "    </tr>\n",
       "    <tr>\n",
       "      <th>...</th>\n",
       "      <td>...</td>\n",
       "    </tr>\n",
       "    <tr>\n",
       "      <th>164849</th>\n",
       "      <td>از من بگو بدان مه خرگاهی آه و فغان من به قلک برشد</td>\n",
       "    </tr>\n",
       "    <tr>\n",
       "      <th>164850</th>\n",
       "      <td>سنگین دلت نیافته آگاهی با آهنین دل تو چه داند کرد؟</td>\n",
       "    </tr>\n",
       "    <tr>\n",
       "      <th>164851</th>\n",
       "      <td>آه شب و فغان سحرگاهی ای همنشین بیهوده گو تا چند</td>\n",
       "    </tr>\n",
       "    <tr>\n",
       "      <th>164852</th>\n",
       "      <td>جان مرا به خیره همی کاهی؟ راحت ز جان خسته چه می جویی؟</td>\n",
       "    </tr>\n",
       "    <tr>\n",
       "      <th>164853</th>\n",
       "      <td>طاقت ز مرغ بسته چه میخواهی؟</td>\n",
       "    </tr>\n",
       "  </tbody>\n",
       "</table>\n",
       "<p>164854 rows × 1 columns</p>\n",
       "</div>"
      ],
      "text/plain": [
       "                                                                                      beyt\n",
       "beyt index                                                                                \n",
       "0           الا یا ایها الساقی ادر کاسا و ناولها که عشق آسان نمود اول ولی افتاد مشکل‌ها   \n",
       "1           به بوی نافه‌ای کاخر صبا زان طره بگشاید ز تاب جعد مشکینش چه خون افتاد در دل‌ها \n",
       "2           مرا در منزل جانان چه امن عیش چون هر دم جرس فریاد می‌دارد که بربندید محمل‌ها   \n",
       "3           به می سجاده رنگین کن گرت پیر مغان گوید که سالک بی‌خبر نبود ز راه و رسم منزل‌ها\n",
       "4           شب تاریک و بیم موج و گردابی چنین هایل کجا دانند حال ما سبکباران ساحل‌ها       \n",
       "...                                                                                    ...\n",
       "164849      از من بگو بدان مه خرگاهی آه و فغان من به قلک برشد                             \n",
       "164850      سنگین دلت نیافته آگاهی با آهنین دل تو چه داند کرد؟                            \n",
       "164851      آه شب و فغان سحرگاهی ای همنشین بیهوده گو تا چند                               \n",
       "164852      جان مرا به خیره همی کاهی؟ راحت ز جان خسته چه می جویی؟                         \n",
       "164853      طاقت ز مرغ بسته چه میخواهی؟                                                   \n",
       "\n",
       "[164854 rows x 1 columns]"
      ]
     },
     "execution_count": 166,
     "metadata": {},
     "output_type": "execute_result"
    }
   ],
   "source": [
    "df"
   ]
  },
  {
   "cell_type": "code",
   "execution_count": 167,
   "id": "66df3b8b",
   "metadata": {},
   "outputs": [],
   "source": [
    "# Gensim and LDA\n",
    "import gensim\n",
    "import gensim.corpora as corpora\n",
    "from gensim.models import CoherenceModel\n",
    "from gensim.parsing.preprocessing import STOPWORDS\n",
    "import pyLDAvis\n",
    "import pyLDAvis.gensim as gensimvis  # don't skip this\n",
    "\n",
    "# NLP stuff\n",
    "import string\n",
    "from hazm import *\n",
    "import codecs\n",
    "\n",
    "# Plotting tools\n",
    "# from bokeh.plotting import figure, output_file, show\n",
    "# from bokeh.models import Label\n",
    "# from bokeh.io import output_notebook\n",
    "import matplotlib.colors as mcolors\n",
    "import matplotlib.pyplot as plt\n",
    "%matplotlib inline\n",
    "\n",
    "# Miscellaneous\n",
    "# from sklearn.manifold import TSNE\n",
    "from pprint import pprint"
   ]
  },
  {
   "cell_type": "code",
   "execution_count": 168,
   "id": "6392dd63",
   "metadata": {},
   "outputs": [],
   "source": [
    "normalizer = Normalizer()\n",
    "stopwords = [normalizer.normalize(x.strip()) for x in codecs.open('stopwords.dat','r','utf-8').readlines()]\n",
    "lemmatizer = Lemmatizer()\n",
    "\n",
    "def preprocess(text):\n",
    "    tokens = word_tokenize(text)\n",
    "    tokens = [lemmatizer.lemmatize(t) for t in tokens if t not in stopwords]\n",
    "    return tokens"
   ]
  },
  {
   "cell_type": "code",
   "execution_count": 169,
   "id": "44179f4a",
   "metadata": {},
   "outputs": [],
   "source": [
    "data_words = df['beyt'].apply(preprocess).tolist()"
   ]
  },
  {
   "cell_type": "code",
   "execution_count": 170,
   "id": "6a52128e",
   "metadata": {},
   "outputs": [],
   "source": [
    "# Build the bigram and trigram models\n",
    "bigram = gensim.models.Phrases(data_words, min_count=5, threshold=30) # higher threshold fewer phrases.\n",
    "\n",
    "# Faster way to get a sentence clubbed as a trigram/bigram\n",
    "bigram_mod = gensim.models.phrases.Phraser(bigram)"
   ]
  },
  {
   "cell_type": "code",
   "execution_count": 171,
   "id": "00741227",
   "metadata": {},
   "outputs": [],
   "source": [
    "def make_bigrams(texts):\n",
    "    return [bigram_mod[doc] for doc in texts]"
   ]
  },
  {
   "cell_type": "code",
   "execution_count": 172,
   "id": "0a19cb88",
   "metadata": {},
   "outputs": [
    {
     "name": "stdout",
     "output_type": "stream",
     "text": [
      "['الا', 'یا', 'ای', 'الساق', 'ادر', 'کاسا', 'و', 'ناولها', 'که', 'عشق', 'آسان', 'نمود', 'اول', 'ولی', 'افتاد#افت', 'مشکل']\n",
      "['به', 'بو', 'نافه', 'کاخر', 'صبا', 'زان', 'طره', 'گشود#گشا', 'ز', 'تاب', 'جعد', 'مشکین', 'چه', 'خون', 'افتاد#افت', 'در', 'دل']\n",
      "['مرا', 'در', 'منزل', 'جانان', 'چه', 'امن', 'عیش', 'چون', 'هر', 'دم', 'جرس', 'فریاد', 'داشت#دار', 'که', 'بربندید', 'محمل']\n",
      "['به', 'می', 'سجاده', 'رنگین', 'کن', 'گر', 'پیر_مغان', 'گفت#گو', 'که', 'سالک', 'بی\\u200cخبر', 'بود#باش', 'ز', 'راه', 'و', 'رسم', 'منزل']\n",
      "['شب_تاریک', 'و', 'بیم', 'موج', 'و', 'گرداب', 'چنین', 'هایل', 'کجا', 'دانست#دان', 'حال', 'ما', 'سبکباران', 'ساحل']\n",
      "['همه', 'کاشت#کار', 'ز', 'خود', 'کام', 'به', 'بدنام', 'کشید#کش', 'آخر', 'نهان', 'کی', 'ماند#مان', 'آن', 'راز', 'کز', 'او', 'ساخت#ساز', 'محفل']\n",
      "['حضور', 'گر', 'همی\\u200cخواهی', 'از', 'او', 'غایب', 'مشو', 'حافظ', 'متی', 'ما', 'تلق', 'من', 'تهوی', 'دع', 'الدنیا', 'و', 'اهملها']\n",
      "['صلاح', 'کار', 'کجا', 'و', 'من', 'خراب', 'کجا', 'دید#بین', 'تفاوت', 'ره', 'کز', 'کجاست', 'تا', 'به', 'کجا']\n",
      "['دل', 'ز', 'صومعه', 'بگرفت', 'و', 'خرقه_سالوس', 'کجاست', 'دیر_مغان', 'و', 'شراب_ناب', 'کجا']\n",
      "['چه', 'نسبت', '#است', 'به', 'رند', 'صلاح', 'و', 'تقوا', 'را', 'سماع', 'وعظ', 'کجا', 'نغمه', 'رباب', 'کجا']\n",
      "['ز', 'روی', 'دوست', 'دل', 'دشمن', 'چه', 'دریابد', 'چراغ', 'مرده', 'کجا', 'شمع', 'آفتاب', 'کجا']\n",
      "['چو', 'کحل', 'بینش', 'ما', 'خاک', 'آستان', 'شماست', 'کجا', 'رفت#رو', 'فرمود#فرما', 'از', 'این', 'جناب', 'کجا']\n",
      "['مبین', 'به', 'سیب_زنخدان', 'که', 'چاه', 'در', 'راه', '#است', 'کجا', 'همی\\u200cروی', 'ای', 'دل', 'بدین', 'شتاب', 'کجا']\n",
      "['بشد', 'که', 'یاد', 'خوش', 'باد', 'روزگار', 'وصال', 'خود', 'آن', 'کرشمه', 'کجا', 'رفت#رو', 'و', 'آن', 'عتاب', 'کجا']\n",
      "['قرار', 'و', 'خواب', 'ز', 'حافظ', 'طمع_مدار', 'ای', 'دوست', 'قرار', 'چیست', 'صبور', 'کدام', 'و', 'خواب', 'کجا']\n",
      "['اگر', 'آن', 'ترک', 'شیراز', 'به', 'دست', 'آرد', 'دل', 'ما', 'را', 'به', 'خال_هندو', 'بخشید#بخش', 'سمرقند', 'و', 'بخارا', 'را']\n",
      "['داد#ده', 'ساقی', 'می', 'باقی', 'که', 'در', 'جنت', 'یافت#یاب', 'کنار', 'آب', 'رکن', 'آباد', 'و', 'گلگشت', 'مصلا', 'را']\n",
      "['فغان', 'کاین', 'لولیان', 'شوخ', 'شیرین', 'کار', 'شهرآشوب', 'چنان', 'برد#بر', 'صبر', 'از', 'دل', 'که', 'ترک', 'خوان', 'یغما', 'را']\n",
      "['ز', 'عشق', 'ناتمام', 'ما', 'جمال', 'یار', 'مستغنی', '#است', 'به', 'آب', 'و', 'رنگ', 'و', 'خال', 'و', 'خط', 'چه', 'حاجت', 'روی', 'زیبا', 'را']\n",
      "['من', 'از', 'آن', 'حسن', 'روزافزون', 'که', 'یوسف', 'داشت', 'دانست#دان', 'که', 'عشق', 'از', 'پرده', 'عصمت', 'برون_آرد', 'زلیخا', 'را']\n",
      "doc len:  164854\n"
     ]
    }
   ],
   "source": [
    "data_preprocessed = make_bigrams(data_words)\n",
    "print(*data_preprocessed[:20], sep='\\n')\n",
    "print('doc len: ', len(data_preprocessed))"
   ]
  },
  {
   "cell_type": "code",
   "execution_count": 173,
   "id": "e5ba98ad",
   "metadata": {},
   "outputs": [
    {
     "name": "stdout",
     "output_type": "stream",
     "text": [
      "[(56, 1), (59, 2), (77, 1), (108, 1), (109, 1), (110, 1), (111, 1), (112, 1), (113, 1), (114, 1), (115, 1)]\n"
     ]
    }
   ],
   "source": [
    "# Create dictionary and corpus needed for topic modeling\n",
    "\n",
    "# dictionary is a mapping of word_id --> word, as the variable name implies\n",
    "id2word = corpora.Dictionary(data_preprocessed)\n",
    "id2word.filter_extremes(no_below=50, no_above=0.3, keep_n=4000)\n",
    "\n",
    "# the preprocessed and lemmatized documents themselves\n",
    "texts = data_preprocessed\n",
    "\n",
    "# corpus is a mapping of word_id --> word frequency\n",
    "corpus = [id2word.doc2bow(text) for text in texts]\n",
    "print(corpus[11])"
   ]
  },
  {
   "cell_type": "code",
   "execution_count": 174,
   "id": "bf14dc19",
   "metadata": {},
   "outputs": [],
   "source": [
    "# Build LDA model\n",
    "from gensim.models.ldamulticore import LdaMulticore\n",
    "\n",
    "\n",
    "def compute_coherence_values(dictionary, corpus, texts, limit, start=2, step=3):\n",
    "    coherence_values = []\n",
    "    perplexity_values = []\n",
    "    model_list = []\n",
    "    for num_topics in range(start, limit, step):\n",
    "        print(\"Going to evaluate topic size:\",num_topics)\n",
    "        model =  LdaMulticore(corpus=corpus,\n",
    "                         id2word=id2word,\n",
    "                         num_topics=num_topics,\n",
    "                         random_state=100,\n",
    "                         chunksize=100,\n",
    "                         passes=4,\n",
    "                         per_word_topics=False)\n",
    "        \n",
    "        model_list.append(model)\n",
    "        coherencemodel = CoherenceModel(model=model, texts=texts, dictionary=dictionary, coherence='c_v')\n",
    "        coherence_values.append(coherencemodel.get_coherence())\n",
    "        perplexity_values.append(model.log_perplexity(corpus))\n",
    "    return model_list, coherence_values, perplexity_values"
   ]
  },
  {
   "cell_type": "code",
   "execution_count": 175,
   "id": "9b54e436",
   "metadata": {},
   "outputs": [],
   "source": [
    "import logging\n",
    "logging.basicConfig(filename='gensim.log',\n",
    "                    format=\"%(asctime)s:%(levelname)s:%(message)s\",\n",
    "                    level=logging.INFO)"
   ]
  },
  {
   "cell_type": "code",
   "execution_count": 176,
   "id": "0936d7d0",
   "metadata": {},
   "outputs": [
    {
     "name": "stdout",
     "output_type": "stream",
     "text": [
      "Going to evaluate topic size: 1\n",
      "Going to evaluate topic size: 101\n",
      "Going to evaluate topic size: 201\n",
      "Going to evaluate topic size: 301\n",
      "Going to evaluate topic size: 401\n",
      "Going to evaluate topic size: 501\n",
      "Going to evaluate topic size: 601\n"
     ]
    }
   ],
   "source": [
    "limit=602; start=1; step=100;\n",
    "\n",
    "model_list, coherence_values, perplexity_values = compute_coherence_values(dictionary=id2word, \n",
    "                                                        corpus=corpus, \n",
    "                                                        texts=data_preprocessed, \n",
    "                                                        start=start, \n",
    "                                                        limit=limit, \n",
    "                                                        step=step)"
   ]
  },
  {
   "cell_type": "code",
   "execution_count": 177,
   "id": "f62e9519",
   "metadata": {},
   "outputs": [
    {
     "data": {
      "image/png": "[encoded data removed]",
      "text/plain": [
       "<Figure size 720x432 with 1 Axes>"
      ]
     },
     "metadata": {
      "needs_background": "light"
     },
     "output_type": "display_data"
    }
   ],
   "source": [
    "# Graph coherence values vs number of topics\n",
    "x = range(start, limit, step)\n",
    "fig = plt.figure(figsize=(10,6))\n",
    "plt.plot(x, coherence_values)\n",
    "plt.xlabel(\"Num Topics\", fontsize=18)\n",
    "plt.ylabel(\"Coherence score\", fontsize=18)\n",
    "plt.grid()\n",
    "fig.savefig('./figures/coherence_vs_numtopics.png')"
   ]
  },
  {
   "cell_type": "code",
   "execution_count": 178,
   "id": "d411d18d",
   "metadata": {},
   "outputs": [
    {
     "data": {
      "image/png": "[encoded data removed]",
      "text/plain": [
       "<Figure size 720x432 with 1 Axes>"
      ]
     },
     "metadata": {
      "needs_background": "light"
     },
     "output_type": "display_data"
    }
   ],
   "source": [
    "fig = plt.figure(figsize=(10,6))\n",
    "plt.plot(x, perplexity_values)\n",
    "plt.xlabel(\"Num Topics\", fontsize=18)\n",
    "plt.ylabel(\"perplexity score\", fontsize=18)\n",
    "plt.grid()\n",
    "fig.savefig('./figures/perplexity_vs_numtopics.png')"
   ]
  },
  {
   "cell_type": "code",
   "execution_count": 179,
   "id": "d380c583",
   "metadata": {},
   "outputs": [],
   "source": [
    "from gensim.models.ldamulticore import LdaMulticore\n",
    "\n",
    "lda_model =  LdaMulticore(corpus=corpus,\n",
    "                         id2word=id2word,\n",
    "                         num_topics=200,\n",
    "                         random_state=100,\n",
    "                         chunksize=100,\n",
    "                         passes=50,\n",
    "                         per_word_topics=False)"
   ]
  },
  {
   "cell_type": "code",
   "execution_count": 180,
   "id": "f755c1bc",
   "metadata": {},
   "outputs": [],
   "source": [
    "lda_model.save('./results/lda_model')"
   ]
  },
  {
   "cell_type": "code",
   "execution_count": 181,
   "id": "5ef64a38",
   "metadata": {},
   "outputs": [
    {
     "name": "stdout",
     "output_type": "stream",
     "text": [
      "([(0.15039875, 'آخر'), (0.12573957, 'آه'), (0.09381816, 'از'), (0.092182145, 'دوش'), (0.08265742, 'بزم'), (0.079815835, 'شنید#شنو'), (0.060995083, 'دود'), (0.04741576, 'به'), (0.036797002, 'کرد#کن'), (0.031070696, 'بر'), (0.02821198, 'این'), (0.027944071, 'دل'), (0.026218109, 'ندامت'), (0.023023915, 'که'), (0.022359904, 'در'), (0.02005052, 'گذر'), (0.014240211, 'چه'), (0.011786445, '#است'), (0.011564763, 'و'), (0.0064958995, 'آن')], -2.832843962234711)\n",
      "--------------------------------------------------\n",
      "([(0.2348085, 'گرد'), (0.15858738, 'تن'), (0.080776446, 'گره'), (0.05992883, 'نوشت#نویس'), (0.05677861, 'در'), (0.053538747, 'به'), (0.04767173, 'بر'), (0.041917756, 'دل'), (0.035566457, 'من'), (0.032328334, 'تخم'), (0.030133624, 'سلسله'), (0.027761316, 'که'), (0.022168713, 'ز'), (0.018176079, 'تو'), (0.01694419, 'این'), (0.014794138, 'چه'), (0.013365213, 'کرد#کن'), (0.010782595, 'از'), (0.009807774, 'آن'), (0.009229268, '#است')], -2.840555123003074)\n",
      "--------------------------------------------------\n",
      "([(0.19494748, 'جا'), (0.11911954, 'کم'), (0.0943472, 'اما'), (0.08771165, 'دماغ'), (0.062761754, 'زند'), (0.051217582, 'از'), (0.03836526, 'به'), (0.035689387, 'که'), (0.034260288, 'ز'), (0.032778095, 'دل'), (0.029784286, 'این'), (0.025939623, 'آن'), (0.025244137, 'چه'), (0.025083106, 'بر'), (0.024591874, '#است'), (0.01951394, 'کرد#کن'), (0.015255374, 'بیم'), (0.014855669, 'در'), (0.014829036, 'ببرد'), (0.011202766, 'و')], -2.978665919666592)\n",
      "--------------------------------------------------\n",
      "([(0.2683882, 'باد'), (0.113338895, 'محبت'), (0.09332919, 'الفت'), (0.061721712, 'بر'), (0.058325805, 'گلستان'), (0.0576784, 'که'), (0.036389463, 'از'), (0.036261465, 'به'), (0.030258216, 'نازک'), (0.026377186, 'من'), (0.026036931, 'طرح'), (0.021410791, 'را'), (0.02130047, 'دل'), (0.020882262, 'کرد#کن'), (0.020493224, 'تو'), (0.020466918, 'ز'), (0.019216212, 'بگذشت'), (0.014170416, 'آن'), (0.0136434985, 'این'), (0.011423702, 'و')], -3.28859582861754)\n",
      "--------------------------------------------------\n",
      "([(0.14062631, 'سودا'), (0.09078497, 'راحت'), (0.090383746, 'یارب'), (0.078464575, 'برای'), (0.06908399, 'از'), (0.06779882, 'رنج'), (0.048266325, 'تو'), (0.041197438, 'من'), (0.038888846, 'چه'), (0.0338336, 'دل'), (0.029344726, 'کرد#کن'), (0.028622512, 'در'), (0.025933616, 'که'), (0.025720172, 'را'), (0.025509136, 'ز'), (0.02323592, 'این'), (0.022167558, 'رس'), (0.02131483, 'نثار'), (0.020854983, 'به'), (0.015218692, '#است')], -3.3266098806701536)\n",
      "--------------------------------------------------\n",
      "([(0.25278574, 'کو'), (0.11136535, 'ار'), (0.10259091, 'گشت'), (0.08095885, 'خاطر'), (0.05952252, 'چیز'), (0.03966758, 'آن'), (0.031458773, 'و'), (0.03126417, 'همدم'), (0.02894443, 'دل'), (0.026780851, 'تو'), (0.026638335, 'من'), (0.021886816, 'ز'), (0.02005084, 'به'), (0.018670112, 'رام'), (0.01777615, 'کرد#کن'), (0.017527321, 'از'), (0.01550686, 'را'), (0.015224208, 'که'), (0.014444411, 'همچنان'), (0.01384077, 'چه')], -3.4160889478061502)\n",
      "--------------------------------------------------\n",
      "([(0.1615298, 'مژگان'), (0.14636742, 'داد'), (0.08559655, 'اندیشه'), (0.079663865, 'به'), (0.076712914, 'در'), (0.057364937, 'دل'), (0.055130843, 'گنج'), (0.045922484, 'پیچید#پیچ'), (0.039380945, 'از'), (0.037495933, 'قناعت'), (0.02756521, 'که'), (0.02656783, 'کنج'), (0.021326285, 'را'), (0.020614667, '#است'), (0.020297535, 'آن'), (0.017244529, 'این'), (0.0152022075, 'و'), (0.010993759, 'من'), (0.010835797, 'بر'), (0.010811249, 'انکار')], -3.741306436341901)\n",
      "--------------------------------------------------\n",
      "([(0.13395442, 'حسرت'), (0.117231235, 'حرف'), (0.062214054, 'به'), (0.06123801, 'کردی'), (0.05116228, 'قلم'), (0.047695387, 'از'), (0.040990762, 'اول'), (0.039196845, 'و'), (0.038253747, 'را'), (0.033709604, 'من'), (0.033244643, 'شانه'), (0.032568175, 'حساب'), (0.031912286, 'که'), (0.026907675, 'در'), (0.02588908, 'دل'), (0.024613684, 'کرد#کن'), (0.021531174, 'چه'), (0.020033395, 'غارت'), (0.019557249, 'ز'), (0.016374333, 'آن')], -3.7888188725549017)\n",
      "--------------------------------------------------\n",
      "([(0.29338658, 'پر'), (0.14564753, 'بال'), (0.09023387, 'و'), (0.068950474, 'از'), (0.04928996, 'آسان'), (0.034835696, 'همچون'), (0.03039213, '#است'), (0.030294212, 'نشست'), (0.027509512, 'دل'), (0.024722895, 'ز'), (0.019785693, 'احسان'), (0.018577687, 'بر'), (0.016950833, 'مرو'), (0.016473193, 'من'), (0.014363632, 'را'), (0.014189983, 'به'), (0.013130848, 'در'), (0.012499959, 'کرد#کن'), (0.011921461, 'این'), (0.0110464115, 'میوه')], -3.901518560101281)\n",
      "--------------------------------------------------\n",
      "([(0.2078872, 'چراغ'), (0.18804939, 'رفتن'), (0.13318028, 'فرو'), (0.1226476, 'به'), (0.0469327, 'بوسید#بوس'), (0.044149462, 'انجم'), (0.037204128, 'از'), (0.031323437, 'را'), (0.028810853, 'ز'), (0.02576598, 'من'), (0.025557512, 'شهریار'), (0.02357103, 'که'), (0.020537492, 'کرد#کن'), (0.016091444, 'چه'), (0.013859565, 'دل'), (0.010585074, 'ظفر'), (0.0058981925, 'تو'), (0.0047128587, 'آن'), (0.004610984, 'بر'), (0.0044732364, 'این')], -3.9697660847025693)\n",
      "--------------------------------------------------\n",
      "([(0.22376154, 'دانست#دان'), (0.10438035, 'که'), (0.08177838, 'گوهر'), (0.07603607, 'چه'), (0.059000004, 'راز'), (0.04246001, 'از'), (0.04223633, 'من'), (0.040224034, 'تو'), (0.032977656, 'را'), (0.029958228, 'دل'), (0.028790902, 'این'), (0.026716862, 'گرفتار'), (0.026138898, 'می\\u200cباید'), (0.02395862, 'و'), (0.02119561, '#است'), (0.018351303, 'ز'), (0.01784875, 'توانی'), (0.016716022, 'آن'), (0.016112845, 'در'), (0.014945664, 'مدد')], -3.9790661352878294)\n",
      "--------------------------------------------------\n",
      "([(0.16398494, 'حلقه'), (0.11175672, 'در'), (0.08283676, 'آرام'), (0.068675146, 'ضعیف'), (0.061730232, 'طفل'), (0.05646472, 'به'), (0.04445248, 'سلامت'), (0.042694945, 'که'), (0.04254069, 'غلام'), (0.039555315, 'برخاست'), (0.036035392, 'دل'), (0.03423948, 'بر'), (0.031297468, '#است'), (0.022534637, 'من'), (0.022031523, 'طی'), (0.019773006, 'آن'), (0.017234923, 'از'), (0.01563145, 'تو'), (0.014873134, 'کرد#کن'), (0.014400326, 'ز')], -3.984693938343905)\n",
      "--------------------------------------------------\n",
      "([(0.17777498, 'پا'), (0.16260175, 'ناز'), (0.10742697, 'دریا'), (0.067186214, 'به'), (0.063494466, 'و'), (0.043916225, 'خجلت'), (0.04265264, 'صبر'), (0.04123051, 'ز'), (0.041131552, 'از'), (0.03159505, 'کرد#کن'), (0.030866673, 'را'), (0.029082531, 'خرد'), (0.021751808, 'بر'), (0.01951681, 'لحظه'), (0.019074783, 'در'), (0.016498381, 'رفتار'), (0.016118009, 'چه'), (0.015417966, 'خوبی'), (0.015154445, '#است'), (0.011186856, 'دل')], -4.028362187245292)\n",
      "--------------------------------------------------\n",
      "([(0.18643372, 'فیض'), (0.08596617, 'عافیت'), (0.06516711, 'مس'), (0.056295563, 'بسیار'), (0.052940678, 'از'), (0.051847164, 'حدیث'), (0.05105441, 'نامه'), (0.043725006, 'ز'), (0.042232066, 'و'), (0.037488915, 'در'), (0.035129976, 'را'), (0.03280779, '#است'), (0.031424794, 'نسخه'), (0.030321283, 'که'), (0.026880464, 'لیکن'), (0.024187354, 'کرد#کن'), (0.021671535, 'بری'), (0.020691779, 'رشک'), (0.018025616, 'چه'), (0.016717779, 'این')], -4.057328666949682)\n",
      "--------------------------------------------------\n",
      "([(0.19223353, 'کرد#کن'), (0.18954289, 'پیدا'), (0.06132255, 'را'), (0.049175896, 'از'), (0.039274253, 'و'), (0.036903143, 'نزدیک'), (0.036018286, 'حشر'), (0.035177164, 'در'), (0.028880892, 'چه'), (0.026637329, 'ضعف'), (0.026135271, 'ارباب'), (0.02451307, 'که'), (0.023980478, 'به'), (0.023591315, 'بر'), (0.022762163, 'ز'), (0.022045482, '#است'), (0.021177508, 'تجلی'), (0.020791028, 'تو'), (0.020469105, 'من'), (0.018532915, 'این')], -4.098907166457944)\n",
      "--------------------------------------------------\n",
      "([(0.49021235, 'ای'), (0.09549643, 'تو'), (0.049213637, 'سامان'), (0.04643754, 'من'), (0.04281919, 'دل'), (0.03892777, 'از'), (0.037990473, 'وی'), (0.033886477, 'که'), (0.030668685, 'در'), (0.022975584, 'چندان'), (0.017999096, 'بر'), (0.013456733, 'را'), (0.011781125, 'چه'), (0.010974553, 'و'), (0.010852357, 'دیار'), (0.008833039, 'این'), (0.0067481915, 'حالت'), (0.006312414, 'کرد#کن'), (0.0058953767, 'آن'), (0.0040594954, 'مرحله')], -4.109020281895223)\n",
      "--------------------------------------------------\n",
      "([(0.21141845, 'صورت'), (0.18276164, 'همین'), (0.06609839, 'میدان'), (0.056675497, '#است'), (0.05129035, 'و'), (0.05092214, 'به'), (0.049023926, 'در'), (0.043290053, 'نصیب'), (0.035002846, 'که'), (0.033491246, 'عزم'), (0.024876865, 'کدورت'), (0.019575173, 'تو'), (0.019150125, 'من'), (0.01755045, 'از'), (0.017083723, 'این'), (0.016234437, 'کیسه'), (0.015087693, 'ز'), (0.0150840795, 'آن'), (0.012790205, 'را'), (0.010976074, 'چه')], -4.12050837437374)\n",
      "--------------------------------------------------\n"
     ]
    },
    {
     "name": "stdout",
     "output_type": "stream",
     "text": [
      "([(0.1785007, 'من'), (0.11958308, 'عرض'), (0.07394649, 'و'), (0.07204558, 'جفا'), (0.05607458, 'تو'), (0.055895608, 'از'), (0.04240646, 'که'), (0.04160663, 'به'), (0.03597297, 'رسم'), (0.03197864, 'دل'), (0.03136431, 'مده'), (0.031023059, 'کرد#کن'), (0.02999859, 'بر'), (0.026856644, 'ز'), (0.025145018, '#است'), (0.02455419, 'افتادگی'), (0.02064108, 'چه'), (0.018375995, 'مال'), (0.017736254, 'مغرور'), (0.017407455, 'در')], -4.145238813617118)\n",
      "--------------------------------------------------\n",
      "([(0.114543684, 'جوش'), (0.09069881, 'پری'), (0.062552236, 'و'), (0.061508812, 'از'), (0.051615108, 'شاد'), (0.05080186, 'شاید'), (0.050596144, 'بتان'), (0.047191378, 'که'), (0.041445028, 'به'), (0.040681195, 'نشاط'), (0.037087772, 'دل'), (0.03688402, 'ز'), (0.027318442, 'حور'), (0.024856506, '#است'), (0.0230096, 'در'), (0.022265326, 'من'), (0.021606825, 'کرد#کن'), (0.019681403, 'درست'), (0.019452782, 'آن'), (0.01926087, 'را')], -4.167635020533622)\n",
      "--------------------------------------------------\n",
      "([(0.11049741, 'قیامت'), (0.09193942, 'مجنون'), (0.08669678, 'انتظار'), (0.085534185, 'ادب'), (0.053288568, 'و'), (0.04828056, 'در'), (0.046832915, 'به'), (0.04128571, 'لیل'), (0.04032017, 'از'), (0.038860746, 'حکم'), (0.032670703, '#است'), (0.028639335, 'بر'), (0.028439566, 'رخش'), (0.027621739, 'که'), (0.024927637, 'را'), (0.02433075, 'ز'), (0.023982937, 'سیم'), (0.021393174, 'عراق'), (0.019076996, 'من'), (0.018530272, 'کرد#کن')], -4.184247178455437)\n",
      "--------------------------------------------------\n",
      "([(0.26902634, 'داغ'), (0.1146486, 'تاب'), (0.10049959, 'دل'), (0.06884214, 'از'), (0.04479739, 'ز'), (0.038977586, 'به'), (0.03377716, 'و'), (0.030874768, 'خرم'), (0.02976605, 'که'), (0.029568318, 'تو'), (0.027714, 'بر'), (0.027160367, 'را'), (0.023862949, 'ناوک'), (0.02262018, 'من'), (0.019267589, '#است'), (0.018176017, 'قوت'), (0.016836163, 'نشانی'), (0.016201327, 'آن'), (0.011632132, 'در'), (0.011227749, 'شیرینی')], -4.263984901291031)\n",
      "--------------------------------------------------\n",
      "([(0.27192828, 'شمع'), (0.08656105, 'سوخت#سوز'), (0.085175805, 'شرم'), (0.07649182, 'کف'), (0.075507864, 'از'), (0.05501051, 'به'), (0.047073837, 'ز'), (0.04145807, 'دلبر'), (0.034961045, 'دل'), (0.03197972, 'غیرت'), (0.031956222, 'در'), (0.030104017, 'که'), (0.023328722, 'احتیاج'), (0.018781692, 'سرکش'), (0.017472213, 'مشو'), (0.014635375, 'کرد#کن'), (0.01439836, '#است'), (0.010565522, 'چه'), (0.009675094, 'سمن'), (0.0070636943, 'آن')], -4.278072506350527)\n",
      "--------------------------------------------------\n",
      "([(0.45299605, 'رفت#رو'), (0.13442981, 'و'), (0.05739888, 'گرم'), (0.046691358, 'اسباب'), (0.04021181, 'ز'), (0.034542087, 'در'), (0.03172205, 'من'), (0.028108088, 'دل'), (0.025013478, 'بر'), (0.022407202, 'تب'), (0.016802102, 'که'), (0.01319328, 'مکان'), (0.013049276, 'کرد#کن'), (0.01303153, 'تو'), (0.012855575, 'آر'), (0.01148417, 'هندو'), (0.008247525, 'چه'), (0.0068144356, 'کون'), (0.0065984637, 'این'), (0.0057009053, 'آن')], -4.372740744189261)\n",
      "--------------------------------------------------\n",
      "([(0.5554958, 'بود#باش'), (0.09328519, 'که'), (0.05703544, 'در'), (0.03886492, 'تو'), (0.032581218, 'آن'), (0.031195428, 'را'), (0.030127367, 'چه'), (0.024998788, 'من'), (0.018297687, 'از'), (0.017305555, 'دل'), (0.014932976, 'و'), (0.011635458, 'حیف'), (0.01150859, 'ز'), (0.009884061, 'بر'), (0.0096504735, 'آگهی'), (0.007930749, 'به'), (0.005735665, 'زیرا'), (0.0052891104, 'غصه'), (0.005069008, 'کرد#کن'), (0.0049850666, 'مروت')], -4.378986878257073)\n",
      "--------------------------------------------------\n",
      "([(0.3436777, 'بهر'), (0.1161238, 'از'), (0.10142535, 'بوسه'), (0.045379046, 'کرد#کن'), (0.044727765, 'تو'), (0.044422608, 'ز'), (0.04221993, 'صبحدم'), (0.03600878, 'بر'), (0.033179235, 'من'), (0.029057754, 'باد_صبا'), (0.028563606, 'دل'), (0.027774645, 'شکفت#شکف'), (0.024215756, 'را'), (0.019392963, 'شفق'), (0.016806567, 'چه'), (0.014813331, 'که'), (0.010877342, 'عربده'), (0.010106931, 'در'), (0.0049278955, '#است'), (0.0016551258, 'این')], -4.385445636708034)\n",
      "--------------------------------------------------\n",
      "([(0.090150684, 'بیخود'), (0.08808095, 'افسانه'), (0.083918095, 'و'), (0.074940614, 'درون'), (0.06484125, 'زنار'), (0.056464966, 'های'), (0.046770554, 'عرصه'), (0.04267692, 'در'), (0.0394697, 'شخص'), (0.035655245, 'ساخت'), (0.030247072, 'را'), (0.029964214, 'ز'), (0.028586773, 'از'), (0.026902027, 'کرد#کن'), (0.023078335, 'که'), (0.021917123, '#است'), (0.021557929, 'انسان'), (0.019133858, 'من'), (0.016525587, 'چه'), (0.016429735, 'به')], -4.397952854724544)\n",
      "--------------------------------------------------\n",
      "([(0.21839966, 'غبار'), (0.12588704, 'حیرت'), (0.08596791, 'به'), (0.07983535, 'زخم'), (0.07586685, 'صحرا'), (0.050872546, 'از'), (0.03740731, '#است'), (0.0331539, 'دل'), (0.031007227, 'ز'), (0.02816364, 'را'), (0.019465258, 'فراموش'), (0.018769313, 'کرد#کن'), (0.018366506, 'چه'), (0.01829456, 'جنگ'), (0.017937008, 'که'), (0.015661027, 'من'), (0.0156118395, 'بر'), (0.0136714345, 'این'), (0.012931232, 'بن'), (0.010775075, 'پایان')], -4.40862823275637)\n",
      "--------------------------------------------------\n",
      "([(0.17704152, 'توام'), (0.11668962, 'بت'), (0.11331587, 'آستین'), (0.09241319, 'من'), (0.06356808, 'که'), (0.056830917, 'پناه'), (0.054916505, 'در'), (0.04350149, 'کوته'), (0.036872793, 'به'), (0.032758795, 'آن'), (0.030468209, 'سزد'), (0.029542541, 'ز'), (0.029455032, 'فراغ'), (0.027231703, 'از'), (0.021342954, 'مبین'), (0.020944785, 'بر'), (0.02068894, 'چه'), (0.016881753, 'کرد#کن'), (0.0051037124, 'و'), (0.003755779, 'این')], -4.485346824050203)\n",
      "--------------------------------------------------\n",
      "([(0.17363599, 'امید'), (0.15837581, 'نور'), (0.06696445, 'به'), (0.06393848, 'از'), (0.054781925, 'هجر'), (0.050948948, 'و'), (0.044819705, 'ز'), (0.039754063, 'ایمن'), (0.03833263, 'تو'), (0.03221519, '#است'), (0.030442676, 'وداع'), (0.02816964, 'در'), (0.02443149, 'مسلمان'), (0.023668237, 'که'), (0.023019295, 'را'), (0.021763155, 'من'), (0.013970078, 'بر'), (0.013650344, 'نامید#نام'), (0.013375337, 'هنگام'), (0.013007578, 'دل')], -4.490380879280459)\n",
      "--------------------------------------------------\n",
      "([(0.15288797, 'سینه'), (0.13394848, 'پیر'), (0.058028657, 'غلط'), (0.056905605, 'در'), (0.05401219, 'باری'), (0.04577379, 'از'), (0.03866651, 'ز'), (0.03828371, 'که'), (0.038160037, 'صرف'), (0.037124123, 'خجالت'), (0.03454281, 'شست'), (0.033417437, 'ایام'), (0.032527115, 'به'), (0.029576065, 'و'), (0.029317254, 'سرشک'), (0.024418043, 'من'), (0.023734624, 'دل'), (0.020709597, '#است'), (0.01932062, 'را'), (0.01919581, 'آیین')], -4.567839809125395)\n",
      "--------------------------------------------------\n",
      "([(0.14589003, 'برگ'), (0.11310393, 'لیک'), (0.09043587, 'جهانی'), (0.055542834, 'و'), (0.048020955, 'از'), (0.039279945, 'وعده'), (0.03858183, 'نهال'), (0.03651846, 'را'), (0.036423456, 'گفتار'), (0.036306094, 'ز'), (0.03414438, 'به'), (0.029293323, 'منقار'), (0.027264878, 'کرد#کن'), (0.025459616, 'تو'), (0.024298145, 'چه'), (0.022990251, 'که'), (0.02191862, 'من'), (0.021874133, '#است'), (0.02040481, 'دل'), (0.019427821, 'ماجرا')], -4.587157849052626)\n",
      "--------------------------------------------------\n",
      "([(0.37343162, 'هستی'), (0.09499703, 'هرگز'), (0.054751802, 'روح'), (0.0527448, 'از'), (0.049055815, 'بیابان'), (0.03355025, 'عمریست'), (0.029307568, 'و'), (0.02877503, 'در'), (0.028753765, 'التفات'), (0.028641718, 'من'), (0.027311359, 'کرد#کن'), (0.024755104, 'ظلمت'), (0.02199386, '#است'), (0.021305032, 'رسیدن'), (0.01926389, 'عتاب'), (0.018379224, 'ز'), (0.014469777, 'تو'), (0.013337252, 'چه'), (0.0120085925, 'این'), (0.011871099, 'به')], -4.625686908895737)\n",
      "--------------------------------------------------\n",
      "([(0.20444758, 'آفتاب'), (0.07250355, 'جاه'), (0.062769465, 'از'), (0.06122818, 'سفر'), (0.049487505, 'ز'), (0.046123743, 'مشرب'), (0.045079198, 'و'), (0.041596696, 'برآمد'), (0.040029153, 'به'), (0.039591283, 'در'), (0.034524944, 'که'), (0.03054195, 'آشوب'), (0.027528316, 'سبک'), (0.026567623, 'حد'), (0.025344033, 'را'), (0.025272965, '#است'), (0.021049479, 'آن'), (0.019325703, 'کرد#کن'), (0.018006358, 'چه'), (0.013930942, 'بر')], -4.628034153064708)\n",
      "--------------------------------------------------\n",
      "([(0.32784, 'سایه'), (0.20720771, 'چرا'), (0.08691759, 'خرابات'), (0.082473174, 'در'), (0.054283112, 'هشیار'), (0.03336852, 'بر'), (0.029541241, '#است'), (0.028281597, 'کرد#کن'), (0.02583669, 'ایشان'), (0.024098214, 'خیمه'), (0.01973393, 'بحث'), (0.019002171, 'به'), (0.018884147, 'ز'), (0.011901754, 'سلطنت'), (0.009619062, 'نوشین'), (0.009211518, 'و'), (0.003163952, 'از'), (0.0028161395, 'آن'), (0.0024295, 'دل'), (0.00073508866, 'که')], -4.635195041077699)\n",
      "--------------------------------------------------\n"
     ]
    },
    {
     "name": "stdout",
     "output_type": "stream",
     "text": [
      "([(0.16829593, 'گشود#گشا'), (0.087267205, 'وجود'), (0.075501256, 'جو'), (0.067848824, 'دهر'), (0.06295161, 'در'), (0.05370541, 'و'), (0.047597885, 'سراپا'), (0.03818316, 'از'), (0.038045455, 'وصف'), (0.03689596, 'به'), (0.03386066, 'ز'), (0.03263149, '#است'), (0.031865146, 'عید'), (0.029959697, 'که'), (0.026738763, 'تو'), (0.024371957, 'را'), (0.024209274, 'آب_حیات'), (0.02211294, 'خواست'), (0.019011993, 'آن'), (0.018956173, 'این')], -4.6402611016921265)\n",
      "--------------------------------------------------\n",
      "([(0.2414752, 'سخن'), (0.097545415, 'آغوش'), (0.09670323, 'تسلیم'), (0.08613262, 'از'), (0.07624554, 'در'), (0.05435739, 'جسم'), (0.048822146, 'فهم'), (0.03766045, 'جرعه'), (0.036429938, 'مقصود'), (0.03318721, 'میکده'), (0.027738461, 'ز'), (0.024759097, 'کرد#کن'), (0.02353143, 'دادن'), (0.023141172, 'به'), (0.017095648, 'من'), (0.015932674, 'خشت'), (0.013791416, 'که'), (0.013522554, 'تو'), (0.01278807, 'بر'), (0.012684254, 'و')], -4.703977436392819)\n",
      "--------------------------------------------------\n",
      "([(0.12949066, 'ننگ'), (0.11462014, 'زن'), (0.08466946, 'دیوانه'), (0.079295225, 'محفل'), (0.07844574, 'و'), (0.053308148, 'سواد'), (0.04837983, 'این'), (0.047135167, 'از'), (0.046146702, 'را'), (0.04031119, 'بر'), (0.032736, '#است'), (0.028184494, 'عاقل'), (0.02612957, 'نام'), (0.025362078, 'در'), (0.023621699, 'لوح'), (0.020344852, 'دل'), (0.015377764, 'کرد#کن'), (0.0151616875, 'به'), (0.0145589, 'ز'), (0.013223924, 'بینش')], -4.711328595449934)\n",
      "--------------------------------------------------\n",
      "([(0.19632919, 'دوست'), (0.15084545, 'معنی'), (0.07978816, 'حیران'), (0.06642516, 'دشمن'), (0.062793046, 'به'), (0.0485741, 'از'), (0.044496264, 'گلزار'), (0.038317133, 'و'), (0.032469496, 'را'), (0.031183891, 'که'), (0.03089251, 'کرد#کن'), (0.030071698, 'چه'), (0.027180428, 'ز'), (0.02479747, 'نمود'), (0.023175908, 'در'), (0.021183997, 'باک'), (0.015158532, 'صنعت'), (0.013041752, 'بر'), (0.012054858, 'طرفه'), (0.012048815, '#است')], -4.72008563393543)\n",
      "--------------------------------------------------\n",
      "([(0.4942293, 'چشم'), (0.06540729, 'به'), (0.055158544, 'روان'), (0.041686017, 'تو'), (0.037936427, 'من'), (0.03503641, 'در'), (0.034878578, 'نقاب'), (0.02943725, 'ز'), (0.029033631, 'گوشه'), (0.02824973, 'را'), (0.027325636, 'تازه'), (0.025907122, 'کرد#کن'), (0.024998875, 'بر'), (0.023616603, 'که'), (0.015251997, '#است'), (0.015069704, 'آن'), (0.0066150827, 'تصور'), (0.003980992, 'و'), (0.003015913, 'محض'), (0.0023139452, 'فرخنده')], -4.72062282560118)\n",
      "--------------------------------------------------\n",
      "([(0.6740124, 'ما'), (0.06628266, 'و'), (0.03386907, 'در'), (0.033592083, '#است'), (0.027189754, 'از'), (0.02541574, 'به'), (0.025101246, 'بر'), (0.022561625, 'چیست'), (0.01743571, 'این'), (0.013669732, 'عهد'), (0.012886011, 'میخانه'), (0.012490285, 'تدبیر'), (0.008095373, 'ز'), (0.004774382, 'تو'), (0.0038927456, 'آن'), (0.0037826847, 'باور'), (0.003620815, 'که'), (0.0028447963, 'من'), (0.0026683582, 'طعنه'), (0.0023627554, 'مسجد')], -4.744900659164512)\n",
      "--------------------------------------------------\n",
      "([(0.19030814, 'مهر'), (0.10511585, 'قفس'), (0.09685673, 'بسته'), (0.064410225, 'در'), (0.057887476, 'نهاد'), (0.054721937, 'دل'), (0.047425207, 'به'), (0.045895837, 'تو'), (0.04399292, 'از'), (0.034800146, 'من'), (0.033808686, 'وحش'), (0.033603568, '#است'), (0.032316037, 'مقابل'), (0.030851053, 'احوال'), (0.022268377, 'طایر'), (0.020541951, 'سهل'), (0.016036894, 'و'), (0.01566026, 'که'), (0.014669767, 'را'), (0.012333335, 'کرد#کن')], -4.757548827638718)\n",
      "--------------------------------------------------\n",
      "([(0.10691668, 'بحر'), (0.10073414, 'مژه'), (0.09111362, 'شبنم'), (0.06492076, 'از'), (0.05946535, 'آزاد'), (0.05685265, 'جمع'), (0.04580382, '#است'), (0.045486823, 'و'), (0.044067737, 'به'), (0.032998998, 'کرد#کن'), (0.032757867, 'این'), (0.03083296, 'جوان'), (0.030543163, 'در'), (0.028642375, 'تمام'), (0.026508313, 'فریب'), (0.023594918, 'بیان'), (0.022448804, 'دل'), (0.022069102, 'که'), (0.020023035, 'دستار'), (0.018515518, 'ز')], -4.87058799966446)\n",
      "--------------------------------------------------\n",
      "([(0.10419747, 'تمنا'), (0.09045222, 'کعبه'), (0.07430203, 'خزان'), (0.05414357, 'به'), (0.044432692, 'در'), (0.042837005, '#است'), (0.042606033, 'که'), (0.040941946, 'تو'), (0.037839424, 'ولیکن'), (0.035575125, 'قتل'), (0.034229636, 'کرد#کن'), (0.034111056, 'تقدیر'), (0.032581605, 'و'), (0.030116173, 'شکستی'), (0.02924264, 'من'), (0.027787132, 'حرام'), (0.025962953, 'از'), (0.023433102, 'را'), (0.022783626, 'بر'), (0.02265628, 'چه')], -4.921443558354929)\n",
      "--------------------------------------------------\n",
      "([(0.5785263, 'نیست'), (0.061911993, 'را'), (0.06137438, 'که'), (0.05217357, 'در'), (0.045082565, 'از'), (0.029980734, 'این'), (0.025828036, 'تو'), (0.019556416, 'دل'), (0.01930806, '#است'), (0.017379768, 'خودم'), (0.011632307, 'شعر'), (0.011292295, 'پیغام'), (0.010034399, 'آن'), (0.007874827, 'بر'), (0.0077749556, 'ترانه'), (0.0061474103, 'جم'), (0.006032342, 'ز'), (0.0053588795, 'به'), (0.004428539, 'کرد#کن'), (0.0043115728, 'مصلحت')], -4.929140382447081)\n",
      "--------------------------------------------------\n",
      "([(0.4576704, 'دگر'), (0.16449751, 'تماشا'), (0.099023335, 'عنقا'), (0.04451686, 'درس'), (0.037332628, 'ساعت'), (0.032490335, 'دردمند'), (0.029462334, 'شتاب'), (0.020474931, 'را'), (0.018430326, 'حسنی'), (0.017298738, 'دل'), (0.015434006, 'این'), (0.015338576, '#است'), (0.013340378, 'از'), (0.0077943434, 'قاف'), (0.0075446474, 'قیاس'), (0.006172453, 'ز'), (0.005727333, 'تو'), (0.0026861124, 'که'), (0.0012104867, 'آن'), (0.00066807296, 'در')], -4.941238227511733)\n",
      "--------------------------------------------------\n",
      "([(0.404525, 'گشت#گرد'), (0.11247673, 'شکست'), (0.0721748, 'از'), (0.041081507, 'آبرو'), (0.03323629, 'نوشید#نوش'), (0.03176129, 'شمشیر'), (0.028463328, 'می\\u200cتوان'), (0.02278281, 'ز'), (0.022513872, 'دل'), (0.02199077, 'وگر'), (0.019913347, 'بر'), (0.018899197, 'صد_هزار'), (0.018234659, 'در'), (0.017469268, 'که'), (0.017060276, 'ریز'), (0.016758252, 'را'), (0.013025206, 'کرد#کن'), (0.0106630875, 'افسر'), (0.009637741, 'آن'), (0.00956536, 'تو')], -4.95385332987187)\n",
      "--------------------------------------------------\n",
      "([(0.27241182, 'گذشت#گذر'), (0.10618503, 'از'), (0.09069132, 'و'), (0.060029104, 'ز'), (0.049365047, 'که'), (0.040415403, 'عشرت'), (0.036205985, 'زه'), (0.033704735, 'خوار'), (0.025620539, 'قربان'), (0.024041286, 'باقی'), (0.023986463, 'بر'), (0.023632856, 'در'), (0.022780862, 'مقیم'), (0.022706512, 'آن'), (0.01638394, 'بویی'), (0.015943255, 'این'), (0.015059675, 'من'), (0.012615193, 'به'), (0.012364822, 'چه'), (0.010637899, 'منعم')], -4.964472053197096)\n",
      "--------------------------------------------------\n",
      "([(0.27318606, 'رنگ'), (0.22312665, 'آب'), (0.13055818, 'یار'), (0.077819414, 'و'), (0.049149696, 'جمال'), (0.046943992, 'در'), (0.042944014, 'به'), (0.034169544, 'ز'), (0.03195927, '#است'), (0.019546298, 'من'), (0.017463759, 'را'), (0.014753984, 'چه'), (0.010502944, 'سبزه'), (0.010372182, 'یاقوت'), (0.00629701, 'زیبا'), (0.0051722643, 'تو'), (0.004072043, 'آن'), (0.0012783381, 'که'), (2.1298573e-07, 'آثار'), (2.1298573e-07, 'گزید')], -4.976620415050164)\n",
      "--------------------------------------------------\n",
      "([(0.39497977, 'گفت#گو'), (0.15332012, 'که'), (0.058447417, 'من'), (0.057310555, 'چنان'), (0.048604973, 'تو'), (0.040360715, 'چه'), (0.03157177, 'به'), (0.03149199, 'آن'), (0.03034375, 'و'), (0.029200248, 'از'), (0.025090054, 'را'), (0.024797155, 'اختیار'), (0.024457492, 'این'), (0.019907339, 'کرد#کن'), (0.017831739, 'دل'), (0.007341881, 'در'), (0.0039024763, 'زیاد'), (3.2368996e-07, 'قابل'), (3.2368996e-07, 'مرجان'), (3.2368996e-07, 'بباید')], -4.989705840665876)\n",
      "--------------------------------------------------\n",
      "([(0.24870324, 'مو'), (0.11085176, 'فتنه'), (0.071365304, 'از'), (0.0656382, 'هجران'), (0.057158995, 'به'), (0.05014802, 'جوی'), (0.040532984, 'تو'), (0.038275816, 'مژده'), (0.035917763, 'زبر'), (0.033861328, 'را'), (0.031915594, 'که'), (0.028813899, 'و'), (0.028011518, 'من'), (0.020142345, 'نشاند'), (0.018638618, 'آن'), (0.017736424, 'کرد#کن'), (0.017644163, '#است'), (0.016014459, 'بر'), (0.012377441, 'خاصه'), (0.01206724, 'درهم')], -5.016221157270491)\n",
      "--------------------------------------------------\n",
      "([(0.2126792, 'پرده'), (0.20126715, 'برون'), (0.117380425, 'از'), (0.086748414, 'سیاه'), (0.07984643, 'زر'), (0.051580913, 'ز'), (0.04620685, 'در'), (0.0352748, 'پادشاه'), (0.024427641, '#است'), (0.023715265, 'که'), (0.022528544, 'این'), (0.018388879, 'دل'), (0.017312588, 'قلب'), (0.015326628, 'را'), (0.01350121, 'چه'), (0.012189528, 'هان'), (0.012157621, 'آن'), (0.0041310135, 'مران'), (0.003454734, 'به'), (5.8578553e-07, 'مرجان')], -5.017640540552305)\n",
      "--------------------------------------------------\n"
     ]
    },
    {
     "name": "stdout",
     "output_type": "stream",
     "text": [
      "([(0.13961263, 'نیز'), (0.115365244, 'انجمن'), (0.07648247, 'شکسته'), (0.07238261, 'پشت'), (0.042538792, 'این'), (0.039130364, 'مدام'), (0.036557686, 'دل'), (0.03640224, 'بر'), (0.033217583, '#است'), (0.032699246, 'و'), (0.030222753, 'مور'), (0.027745016, 'تو'), (0.02662914, 'سلیمان'), (0.024182452, 'را'), (0.023874829, 'کرد#کن'), (0.023756212, 'به'), (0.023025624, 'ز'), (0.022608425, 'قوم'), (0.02246155, 'معرفت'), (0.021844085, 'من')], -5.105069100459909)\n",
      "--------------------------------------------------\n",
      "([(0.1409702, 'شیرین'), (0.09245186, 'اسیر'), (0.064402066, 'تنها'), (0.06265808, 'خوان'), (0.059856083, 'از'), (0.05207394, 'نقطه'), (0.051501315, 'بیداد'), (0.048352182, 'تو'), (0.046560198, 'و'), (0.045041848, 'فرمان'), (0.042924985, 'من'), (0.03455157, 'بر'), (0.02924814, 'به'), (0.024459226, 'رونق'), (0.022444753, 'که'), (0.02041372, 'صهبا'), (0.01937862, 'آن'), (0.017016536, '#است'), (0.016214477, 'چه'), (0.014977815, 'را')], -5.118866632671461)\n",
      "--------------------------------------------------\n",
      "([(0.22278437, 'دور'), (0.1575462, 'خم'), (0.12512483, 'از'), (0.08726833, 'عیش'), (0.070669524, 'و'), (0.06570135, 'جمله'), (0.054215476, '#است'), (0.051828742, 'صاف'), (0.033478286, 'در'), (0.028196031, 'کرد#کن'), (0.023888316, 'که'), (0.020210443, 'این'), (0.0144813955, 'به'), (0.009730117, 'مدارا'), (0.007279446, 'چه'), (0.007181499, 'دل'), (0.007149695, 'عذار'), (0.00640919, 'تو'), (0.005223614, 'مجوی'), (5.0827197e-07, 'قابل')], -5.122481311399345)\n",
      "--------------------------------------------------\n",
      "([(0.16992092, 'علم'), (0.13670336, 'بیمار'), (0.079487905, 'و'), (0.06031003, 'از'), (0.051625583, 'طبیب'), (0.04727228, 'که'), (0.042271566, 'به'), (0.03977504, 'عمل'), (0.03867142, 'فرمود#فرما'), (0.03855504, 'گردان'), (0.035168793, 'قند'), (0.03485014, '#است'), (0.033203088, 'ز'), (0.03226342, 'شربت'), (0.03220609, 'من'), (0.030770006, 'تو'), (0.024809342, 'گلاب'), (0.02420184, 'این'), (0.018986821, 'دل'), (0.01830098, 'ملول')], -5.144748336349456)\n",
      "--------------------------------------------------\n",
      "([(0.14383548, 'سنگ'), (0.08574066, 'اثر'), (0.0556384, 'در'), (0.052366756, 'گریه'), (0.049363848, 'گم'), (0.049142927, 'به'), (0.047739837, 'دل'), (0.047106538, 'از'), (0.043567203, 'کرد#کن'), (0.04319628, 'تست'), (0.042782392, 'سخت'), (0.040101074, 'ز'), (0.033626404, 'من'), (0.030033441, '#است'), (0.029511226, 'که'), (0.027976112, 'هرزه'), (0.026104176, 'بر'), (0.025967244, 'نما'), (0.025371898, 'وطن'), (0.018847937, 'پهلوی')], -5.210634935431955)\n",
      "--------------------------------------------------\n",
      "([(0.26837513, 'مگر'), (0.21750732, 'شعله'), (0.10589758, 'راست'), (0.09766236, 'کان'), (0.07248751, 'مخمور'), (0.041132342, 'کباب'), (0.030000517, 'ز'), (0.025360953, '#است'), (0.023779528, 'دل'), (0.020824898, 'از'), (0.016995417, 'تو'), (0.015660778, 'آن'), (0.015337953, 'این'), (0.011926126, 'که'), (0.010267928, 'به'), (0.0067556747, 'سقف'), (0.006261434, 'و'), (0.006085578, 'در'), (0.005286258, 'ورد'), (7.453093e-07, 'فن')], -5.229155587153714)\n",
      "--------------------------------------------------\n",
      "([(0.24703155, 'داشت'), (0.24326971, 'نقش'), (0.076973855, 'عجب'), (0.06153524, 'نیم'), (0.057947326, 'کاین'), (0.047315948, 'گردش'), (0.037284605, 'خیز'), (0.032575395, 'بر'), (0.027322913, 'دهم'), (0.023213495, 'نقاش'), (0.021211471, 'کرد#کن'), (0.018916368, 'من'), (0.01757787, 'کلک'), (0.014692695, 'افشان'), (0.014356068, 'پرگار'), (0.013612619, 'آن'), (0.011963546, 'در'), (0.0105758775, 'نشانه'), (0.008507031, 'که'), (0.0062957527, 'به')], -5.371678087068329)\n",
      "--------------------------------------------------\n",
      "([(0.23188299, 'سحر'), (0.18726507, 'همان'), (0.16472441, 'حق'), (0.05386599, 'و'), (0.04700671, '#است'), (0.045948975, 'به'), (0.043360054, 'شما'), (0.03803685, 'ورق'), (0.0368962, 'گوی'), (0.02258729, 'را'), (0.022358283, 'معانی'), (0.017183993, 'ساکن'), (0.017107911, 'چوگان'), (0.015589346, 'کای'), (0.014511939, 'این'), (0.014245333, 'از'), (0.009599642, 'من'), (0.004538452, 'دل'), (0.004302439, 'که'), (0.0042286897, 'یزد')], -5.371950816434712)\n",
      "--------------------------------------------------\n",
      "([(0.13247931, 'نیاز'), (0.10892923, 'حضور'), (0.07495223, 'به'), (0.07207169, 'قضا'), (0.056972, 'حیرتم'), (0.051981524, 'و'), (0.047059678, 'خوشا'), (0.046646476, 'کرد#کن'), (0.046118952, 'که'), (0.04479162, 'خون_جگر'), (0.04045652, 'نماز'), (0.037782416, 'مگیر'), (0.033016656, 'ز'), (0.030490585, 'در'), (0.029406438, 'الست'), (0.025903745, 'از'), (0.025457252, 'تحفه'), (0.019488217, 'چه'), (0.018283295, 'را'), (0.015964942, 'تو')], -5.3942818484996975)\n",
      "--------------------------------------------------\n",
      "([(0.18235098, 'همت'), (0.11120175, 'پاک'), (0.10073104, 'عشاق'), (0.097712584, 'کمال'), (0.058345113, 'از'), (0.053809233, 'خر'), (0.046256132, '#است'), (0.045321867, 'به'), (0.03934612, 'ز'), (0.038637314, 'را'), (0.034439962, 'معذور'), (0.033460528, 'لاجرم'), (0.026330225, 'کرد#کن'), (0.017781459, 'بر'), (0.017756615, 'چه'), (0.013024929, 'و'), (0.012528206, 'وجه'), (0.011909677, 'در'), (0.011565772, 'تو'), (0.010813799, 'تفاوت')], -5.467595849098199)\n",
      "--------------------------------------------------\n",
      "([(0.20853916, 'خانه'), (0.14276214, 'باغ'), (0.11385218, 'جست#جو'), (0.09890188, 'سرو'), (0.08804017, 'و'), (0.073626034, 'در'), (0.059220083, 'قد'), (0.040639266, 'کنون'), (0.04013641, 'از'), (0.019156566, 'به'), (0.017392762, '#است'), (0.014423374, 'کمتر'), (0.011827387, 'موزون'), (0.010625455, 'کلام'), (0.009905058, 'چه'), (0.00985377, 'دل'), (0.008855871, 'پرور'), (0.008697212, 'شمشاد'), (0.007993984, 'لطیف'), (0.007926559, 'که')], -5.473827180139468)\n",
      "--------------------------------------------------\n",
      "([(0.23424959, 'سعی'), (0.21593544, 'نمود#نما'), (0.12825623, 'به'), (0.06876343, 'امل'), (0.04661648, 'که'), (0.040444825, 'را'), (0.03860542, '#است'), (0.028274568, 'چه'), (0.02825784, 'اجل'), (0.02731223, 'سپرد#سپر'), (0.018054215, 'تغییر'), (0.01715792, 'رهزن'), (0.016515205, 'آن'), (0.01594945, 'تو'), (0.013754926, 'من'), (0.012652023, 'فراوان'), (0.0101041375, 'ز'), (0.0097315805, 'هاتف'), (0.009315272, 'دل'), (0.007900991, 'این')], -5.475549953280228)\n",
      "--------------------------------------------------\n",
      "([(0.16165018, 'دام'), (0.09432581, 'دانه'), (0.089833155, 'به'), (0.08525141, 'دیدار'), (0.053368848, 'ممکن'), (0.046459895, 'که'), (0.04052169, 'ز'), (0.038605265, 'و'), (0.037258685, 'افکند'), (0.035081886, 'پیام'), (0.03158058, 'خرید#خر'), (0.031010278, 'در'), (0.029284947, 'تو'), (0.027131898, 'عشوه'), (0.026699305, 'سبو'), (0.024720162, 'من'), (0.024234466, 'از'), (0.023662578, 'پند'), (0.022931589, '#است'), (0.020238781, 'دل')], -5.4973993546584765)\n",
      "--------------------------------------------------\n",
      "([(0.19654241, 'رو'), (0.1676914, 'تیغ'), (0.1423895, 'شکست#شکن'), (0.13859963, 'روشن'), (0.07096492, 'گیر'), (0.043351762, 'به'), (0.0423163, 'منت'), (0.036556497, 'مقصد'), (0.034859672, 'بر'), (0.030658914, 'کشته'), (0.026063267, 'گام'), (0.016601065, 'برآورد'), (0.013689173, 'از'), (0.0122973295, 'دل'), (0.0063649984, 'در'), (0.006085038, 'که'), (0.0060146577, 'فرزانه'), (0.004983693, 'تو'), (0.0024893037, 'و'), (4.6075897e-07, 'حیرتم')], -5.498336424844707)\n",
      "--------------------------------------------------\n",
      "([(0.18762417, 'جز'), (0.15880299, 'دیده'), (0.13418175, 'غیر'), (0.080880776, 'برد'), (0.076656744, 'به'), (0.047922824, 'در'), (0.046173614, 'که'), (0.042671397, 'دل'), (0.042075012, 'مردم'), (0.036381137, 'تو'), (0.03573817, 'دید'), (0.02300814, 'را'), (0.021512114, 'دیوار'), (0.020406207, 'ز'), (0.017601622, 'گمان'), (0.014973619, 'بر'), (0.0066206586, 'مشکین'), (0.005987453, 'و'), (2.4322006e-07, 'فن'), (2.4322006e-07, 'چشمه_خورشید')], -5.548772837301737)\n",
      "--------------------------------------------------\n",
      "([(0.1420123, 'حیا'), (0.0755715, 'نغمه'), (0.074487515, 'از'), (0.05247351, 'صفحه'), (0.050156318, 'رخسار'), (0.042036302, 'متاع'), (0.04171133, 'و'), (0.040796798, 'به'), (0.0394431, 'که'), (0.037404146, 'چاه'), (0.036650166, 'در'), (0.034690805, 'دریغ'), (0.03241567, 'من'), (0.029024098, 'ز'), (0.026373945, 'تو'), (0.025450211, 'غرق'), (0.023976984, '#است'), (0.02041669, 'آن'), (0.01875659, 'آب_حیوان'), (0.018689785, 'این')], -5.556229133644303)\n",
      "--------------------------------------------------\n",
      "([(0.09599049, 'تشنه'), (0.0869982, 'بر'), (0.06505508, 'لب'), (0.05968588, 'که'), (0.058140375, 'فرهاد'), (0.050981265, 'به'), (0.04295252, 'را'), (0.042297304, 'هما'), (0.04215945, 'اوج'), (0.042095654, 'پیداست'), (0.04066051, '#است'), (0.038491614, 'از'), (0.03665549, 'آن'), (0.03495293, 'غزال'), (0.033379365, 'تو'), (0.027310079, 'منتظر'), (0.026139509, 'ز'), (0.025852388, 'چه'), (0.022693653, 'سیراب'), (0.021083837, 'من')], -5.575217915871159)\n",
      "--------------------------------------------------\n"
     ]
    },
    {
     "name": "stdout",
     "output_type": "stream",
     "text": [
      "([(0.09467933, 'پس'), (0.06832204, 'از'), (0.061605208, 'چاک'), (0.04797688, 'به'), (0.04661002, 'نو'), (0.04092381, 'را'), (0.040325496, 'جهد'), (0.040222175, 'پرداخت#پرداز'), (0.037684318, 'و'), (0.03554308, 'بودن'), (0.034205556, 'پیرهن'), (0.031307474, 'من'), (0.030212222, 'ز'), (0.026901975, 'کرد#کن'), (0.024878906, 'تو'), (0.024135826, 'مستانه'), (0.023764, 'آشفته'), (0.022096429, '#است'), (0.021619234, 'سفید'), (0.020390278, 'این')], -5.600951228132972)\n",
      "--------------------------------------------------\n",
      "([(0.32096478, 'درد'), (0.12594666, 'خو'), (0.08297151, 'از'), (0.05624056, 'دل'), (0.044216283, 'درمان'), (0.043067202, 'که'), (0.042835906, 'من'), (0.03544924, 'بعد'), (0.034717724, 'و'), (0.03303146, 'مقام'), (0.032694362, 'کرد#کن'), (0.031587295, 'به'), (0.027271997, 'تو'), (0.026820274, 'رقیب'), (0.021522583, 'این'), (0.017586991, 'رضا'), (0.013135684, 'آن'), (0.008442721, 'مشتری'), (4.6572237e-07, 'گزید'), (4.6572237e-07, 'قابل')], -5.710584828568534)\n",
      "--------------------------------------------------\n",
      "([(0.2873743, 'زین'), (0.19827862, 'خواب'), (0.09186863, 'منزل'), (0.065064296, 'به'), (0.054282814, 'بیدار'), (0.038775038, '#است'), (0.033010155, 'را'), (0.027355678, 'در'), (0.025720995, 'گفتن'), (0.023119848, 'و'), (0.021163346, 'من'), (0.019340407, 'نشین'), (0.017459534, 'چه'), (0.01680921, 'بم'), (0.015055126, 'پروا'), (0.013586935, 'کرد#کن'), (0.010183617, 'که'), (0.01008179, 'این'), (0.008289011, 'تعلیم'), (0.007230227, 'تحسین')], -5.778728835681963)\n",
      "--------------------------------------------------\n",
      "([(0.22063442, 'مکن'), (0.20003846, 'گوش'), (0.10827481, 'دیر'), (0.09303321, 'بجز'), (0.06491534, 'و'), (0.058643334, 'یعنی'), (0.049920723, 'خور'), (0.030214958, 'این'), (0.028774554, 'را'), (0.022517791, 'نامحرم'), (0.021331452, 'کهن'), (0.020255841, 'کاندر'), (0.019096905, 'آزاده'), (0.014289256, 'سوسن'), (0.011058077, 'بر'), (0.008472727, 'تواش'), (0.0074979193, 'دل'), (0.006461253, 'به'), (0.0037232055, 'تو'), (0.0030105815, 'از')], -5.790709573103256)\n",
      "--------------------------------------------------\n",
      "([(0.5043788, 'هر'), (0.10174994, 'که'), (0.050712567, 'به'), (0.042525828, 'در'), (0.04033176, 'از'), (0.0343554, 'طرف'), (0.029327068, 'دعا'), (0.02813276, 'محیط'), (0.025849573, 'بر'), (0.022054277, 'شام'), (0.021739215, 'ستم'), (0.020209016, 'شکوه'), (0.018516192, 'تو'), (0.017224783, 'را'), (0.015270587, 'خواجه'), (0.012291622, 'آن'), (0.010646632, 'دل'), (0.0031623093, 'اسب'), (0.00087209285, 'و'), (2.0217897e-07, 'مرجان')], -5.800332452640074)\n",
      "--------------------------------------------------\n",
      "([(0.67139566, 'گر'), (0.082819514, 'ماست'), (0.064539894, 'چه'), (0.040498156, 'رخت'), (0.029988576, 'توس'), (0.023707628, 'قصه'), (0.013225078, 'قصد'), (0.011368319, 'محتاج'), (0.00989709, 'این'), (0.009177565, '#است'), (0.008803598, 'از'), (0.008772414, 'دل'), (0.008448854, 'به'), (0.0077297385, 'در'), (0.0046706917, 'یغما'), (0.0035778587, 'آن'), (0.0003084313, 'که'), (3.3311815e-07, 'فن'), (3.3311815e-07, 'مرجان'), (3.3311815e-07, 'بباید')], -5.810305920514187)\n",
      "--------------------------------------------------\n",
      "([(0.27597567, 'عرق'), (0.10756217, 'بازار'), (0.10112497, 'شادی'), (0.07086772, 'به'), (0.060983766, 'الله'), (0.049476817, 'خسرو'), (0.038951773, 'در'), (0.035327774, 'بدن'), (0.03449753, 'ز'), (0.03138371, 'و'), (0.030661002, 'از'), (0.028755952, 'بر'), (0.026166357, 'رمیده'), (0.02130376, 'کرد#کن'), (0.01756517, 'محتسب'), (0.013604305, '#است'), (0.010239079, 'که'), (0.010209709, 'آن'), (0.00868111, 'من'), (0.008017631, 'امانت')], -5.856125973654233)\n",
      "--------------------------------------------------\n",
      "([(0.1715653, 'اشک'), (0.13265014, 'ساز'), (0.11428312, 'شوق'), (0.06977858, 'گذاشت#گذار'), (0.060225595, 'به'), (0.056896903, 'و'), (0.054460466, 'از'), (0.052301295, 'نوا'), (0.048032716, 'دشت'), (0.038493123, 'ز'), (0.034304094, 'من'), (0.027336385, '#است'), (0.0242409, 'روم'), (0.01643803, 'سراب'), (0.0152556375, 'دل'), (0.01294496, 'غزل'), (0.0126991235, 'فرستاد#فرست'), (0.01160637, 'سبز'), (0.0104285525, 'که'), (0.010372858, 'قول')], -5.8687540018743185)\n",
      "--------------------------------------------------\n",
      "([(0.1949559, 'خورشید'), (0.13181551, 'دنیا'), (0.09345577, 'کرده'), (0.07767916, 'عنان'), (0.066317484, 'را'), (0.04786752, 'شکار'), (0.04578844, 'و'), (0.040636767, 'پسندید#پسند'), (0.036532365, 'بر'), (0.03473806, 'به'), (0.03172481, 'تو'), (0.02415191, 'نهی'), (0.023691429, 'در'), (0.019177716, 'مثل'), (0.018493196, 'که'), (0.017576102, 'دل'), (0.017513778, 'چه'), (0.011833171, 'خورده'), (0.011660884, 'کرد#کن'), (0.008889952, 'جناب')], -5.87893194293107)\n",
      "--------------------------------------------------\n",
      "([(0.27863955, 'آیینه'), (0.07848383, 'بیرون'), (0.07604901, 'از'), (0.05463645, 'در'), (0.047705676, '#است'), (0.043502048, 'افسون'), (0.035506476, 'سرا'), (0.03140133, 'را'), (0.029107869, 'فسون'), (0.027248548, 'این'), (0.025328234, 'من'), (0.024415446, 'دل'), (0.023005698, 'خروش'), (0.022898301, 'و'), (0.02219087, 'ز'), (0.021221181, 'کرد#کن'), (0.018566793, 'اوهام'), (0.01709524, 'زود'), (0.01700141, 'دهن'), (0.014647622, 'طالب')], -5.9214331471401636)\n",
      "--------------------------------------------------\n",
      "([(0.16676506, 'خار'), (0.08749594, 'گلشن'), (0.056839403, 'چهره'), (0.0545431, 'از'), (0.053280104, 'و'), (0.050434515, 'طره'), (0.046431664, 'بر'), (0.042143665, 'در'), (0.041842625, 'جنس'), (0.03589763, 'را'), (0.035340074, 'که'), (0.030692765, 'ز'), (0.028466385, 'نهد'), (0.027570335, 'افلاک'), (0.023339473, 'تو'), (0.0230374, 'آن'), (0.022322278, 'عنبر'), (0.020863388, '#است'), (0.020055082, 'آرزوست'), (0.019670574, 'مشت_خاک')], -5.9587305114492555)\n",
      "--------------------------------------------------\n",
      "([(0.29722995, 'آینه'), (0.18992019, 'خلق'), (0.0969916, 'بند'), (0.08956909, 'مرغ'), (0.08471291, 'صید'), (0.06021058, 'به'), (0.042206172, 'دل'), (0.040802386, 'را'), (0.024434406, 'کرد#کن'), (0.016381567, 'که'), (0.014983694, 'دانا'), (0.012908589, 'چه'), (0.011469884, 'تو'), (0.0058574756, 'آن'), (0.005539444, 'و'), (0.00507304, 'من'), (5.314037e-07, 'فن'), (5.314037e-07, 'پایی'), (5.314037e-07, 'چشمه_خورشید'), (5.314037e-07, 'آثار')], -5.979189884353448)\n",
      "--------------------------------------------------\n",
      "([(0.112891376, 'گردی'), (0.08981004, 'قرار'), (0.0639826, 'و'), (0.05800418, 'دل'), (0.055783696, 'زاری'), (0.0546744, 'کوچه'), (0.05050093, 'من'), (0.04442998, 'به'), (0.043133132, 'منظر'), (0.042538915, 'که'), (0.04068495, 'از'), (0.032323465, 'بر'), (0.030565389, 'در'), (0.028923735, 'ز'), (0.02570406, 'ضمیر'), (0.025465699, 'کرد#کن'), (0.025203146, 'رهگذر'), (0.022150647, 'صبور'), (0.02059103, 'آن'), (0.018609228, 'ببینم')], -5.99238126074433)\n",
      "--------------------------------------------------\n",
      "([(0.35965994, 'هوس'), (0.059831467, 'به'), (0.055694636, 'صبا'), (0.04723915, 'مشتاق'), (0.04719961, 'پایی'), (0.036679205, 'را'), (0.03454826, 'ز'), (0.034073234, 'در'), (0.03362394, 'بردارد'), (0.033475205, 'دری'), (0.027998548, 'دوران'), (0.025856597, 'از'), (0.0218314, 'این'), (0.020003872, 'کرد#کن'), (0.018103328, 'دل'), (0.015730191, 'جعد'), (0.015156455, 'خواهی_که'), (0.014463563, 'چه'), (0.013767437, 'ساق'), (0.013038577, 'و')], -5.99498803530616)\n",
      "--------------------------------------------------\n",
      "([(0.23972443, 'بس'), (0.16207613, 'افتاد#افت'), (0.07740123, 'که'), (0.07313542, 'در'), (0.07198445, 'از'), (0.055751365, 'جگر'), (0.050927065, '#است'), (0.041265965, 'گردون'), (0.034847587, 'روزگار'), (0.034266304, 'بر'), (0.030382186, 'سیه'), (0.030128455, 'دل'), (0.029385107, 'تو'), (0.027482402, 'من'), (0.026052652, 'و'), (0.006838478, 'آن'), (0.0045057684, 'غنیمت_دان'), (0.0028483404, 'رخ_زیبا'), (3.1013272e-07, 'حیرتم'), (3.1013272e-07, 'بباید')], -6.006111020201866)\n",
      "--------------------------------------------------\n",
      "([(0.08646486, 'از'), (0.081301816, 'برق'), (0.08034831, 'تحقیق'), (0.07418901, 'سوخت'), (0.06498323, 'پوشید#پوش'), (0.06049351, 'خندید#خند'), (0.051675994, 'کوه'), (0.050886452, 'بر'), (0.04581589, 'ترسید#ترس'), (0.045744535, 'خرمن'), (0.045431513, 'کمر'), (0.04042331, 'رحمت'), (0.04024218, 'که'), (0.03864646, 'پرس'), (0.038430385, 'شناخت#شناس'), (0.02998521, 'دفتر'), (0.022828601, '#است'), (0.021926215, 'این'), (0.017342402, 'در'), (0.01270456, 'و')], -6.085565958457278)\n",
      "--------------------------------------------------\n"
     ]
    },
    {
     "name": "stdout",
     "output_type": "stream",
     "text": [
      "([(0.1395507, 'پنهان'), (0.08531454, 'محمل'), (0.06150842, 'جامه'), (0.061236233, 'فرق'), (0.053945817, 'دستم'), (0.052446377, 'ز'), (0.049779277, 'چگونه'), (0.046931107, 'خضر'), (0.04469936, 'کرد#کن'), (0.04419521, 'از'), (0.042669065, 'قبا'), (0.0382913, 'که'), (0.035974044, 'بر'), (0.03197925, 'من'), (0.029323783, 'تو'), (0.022475855, 'به'), (0.022039711, 'نظم'), (0.018109081, 'می\\u200cچکد'), (0.018026978, 'سماع'), (0.016300699, 'را')], -6.227528909710428)\n",
      "--------------------------------------------------\n",
      "([(0.17454758, 'نقد'), (0.08802812, 'سپر'), (0.079210065, 'سوار'), (0.07593971, 'رکاب'), (0.07435152, 'منع'), (0.067350835, 'شکن'), (0.056766577, 'بیار'), (0.051051464, 'از'), (0.04062198, 'را'), (0.034500487, 'بر'), (0.03340817, 'کرد#کن'), (0.030906664, 'به'), (0.030098712, 'و'), (0.019889023, 'این'), (0.019667832, 'ولایت'), (0.019050322, 'من'), (0.01820642, 'خط_سبز'), (0.016303739, 'عدو'), (0.013620997, 'آن'), (0.010105843, 'ز')], -6.312249690290689)\n",
      "--------------------------------------------------\n",
      "([(0.17581846, 'جوهر'), (0.13633601, 'ابرو'), (0.12939773, 'مباد'), (0.107000016, 'ناتوان'), (0.09087655, 'انداخت#انداز'), (0.089711316, 'سپند'), (0.05720277, 'بر'), (0.055914514, 'کمان'), (0.038680226, 'صلح'), (0.03357258, 'از'), (0.027403083, 'من'), (0.024986355, 'فرد'), (0.01645234, '#است'), (0.004449422, 'این'), (0.0033611837, 'تو'), (0.00228367, 'به'), (0.0021415434, 'چه'), (0.0015179366, 'آن'), (9.004938e-07, 'فن'), (9.004938e-07, 'عزیزی')], -6.3376512498164965)\n",
      "--------------------------------------------------\n",
      "([(0.34464416, 'ناله'), (0.07938671, 'و'), (0.07088014, 'از'), (0.07069219, 'هوش'), (0.05704594, 'نوش'), (0.04535986, 'ز'), (0.044835065, 'من'), (0.0347371, 'دل'), (0.031987436, 'دی'), (0.030089008, 'گفتا'), (0.028549433, 'اندوه'), (0.027260108, 'محنت'), (0.023865703, 'ببر'), (0.023512766, 'فروش'), (0.02276038, 'ذکر'), (0.016946543, 'به'), (0.01383106, 'مبتلا'), (0.012557728, 'افغان'), (0.008445561, 'تو'), (0.008282229, 'بر')], -6.353205916354623)\n",
      "--------------------------------------------------\n",
      "([(0.6201348, 'آتش'), (0.10310566, 'شوم'), (0.057863478, 'دل'), (0.048827183, 'بر'), (0.03984957, 'خرقه'), (0.03321986, 'از'), (0.014608518, 'هفت'), (0.013847305, 'این'), (0.013574319, 'تو'), (0.013155132, 'انگور'), (0.0102536585, 'که'), (0.00814552, 'بشد'), (0.007614969, 'کرد#کن'), (0.0048285, 'دگربار'), (0.004005129, 'و'), (0.0023772626, 'آن'), (0.0018746228, 'چه'), (8.4435794e-07, 'آثار'), (8.4435794e-07, 'بباید'), (8.4435794e-07, 'قابل')], -6.396793797832787)\n",
      "--------------------------------------------------\n",
      "([(0.17960925, 'جیب'), (0.16094303, 'هلال'), (0.09977499, 'طلبید#طلب'), (0.07938105, 'صنم'), (0.06527994, 'به'), (0.04226188, 'پاره'), (0.04163013, 'را'), (0.0369229, 'که'), (0.03644932, 'ز'), (0.033882, 'مفلس'), (0.03258373, 'قصر'), (0.024547027, 'من'), (0.022904694, 'آن'), (0.021507425, 'چه'), (0.017417049, 'مغان'), (0.015977766, 'توان_دید'), (0.015004879, 'در'), (0.013988431, '#است'), (0.013960966, 'سروش'), (0.010579308, 'دل')], -6.564880085917748)\n",
      "--------------------------------------------------\n",
      "([(0.114952, 'صدا'), (0.103654906, 'چنگ'), (0.07215816, 'در'), (0.068701476, 'پیمانه'), (0.051931098, 'به'), (0.044592064, 'علاج'), (0.039647058, 'مرده'), (0.039343793, 'بیچاره'), (0.036865793, 'و'), (0.035403494, 'دل'), (0.034222588, 'من'), (0.032994345, 'پیمان'), (0.031480398, 'از'), (0.030551733, 'کرد#کن'), (0.028606046, 'که'), (0.023822986, 'افزون'), (0.020671625, 'ناچار'), (0.020502819, 'این'), (0.020304658, 'بر'), (0.01987127, 'فراز')], -6.566493703569109)\n",
      "--------------------------------------------------\n",
      "([(0.25460568, 'ور'), (0.20166557, 'بالا'), (0.15216525, 'قامت'), (0.075556435, 'تو'), (0.04872763, 'از'), (0.044511195, 'بر'), (0.044361237, 'کوتاه'), (0.038361512, 'شکل'), (0.021729788, 'تشریف'), (0.02167904, 'را'), (0.01884478, 'آن'), (0.01811894, 'من'), (0.017676126, 'ز'), (0.013162851, 'صنوبر'), (0.010600204, 'چالاک'), (0.009776055, 'چه'), (0.0035415029, 'در'), (1.5291193e-06, 'رهبر'), (1.5291193e-06, 'قابل'), (1.5291193e-06, 'متاع')], -6.595935097432561)\n",
      "--------------------------------------------------\n",
      "([(0.16116202, 'مینا'), (0.13894737, 'چرخ'), (0.12995791, 'آشنا'), (0.07513124, 'یوسف'), (0.07430142, 'سیل'), (0.06343714, 'از'), (0.054615177, 'شاخ'), (0.051624604, 'را'), (0.030893816, 'ز'), (0.024535976, 'و'), (0.023151219, 'کرد#کن'), (0.022004995, 'منه'), (0.021649577, 'من'), (0.021363977, 'سد'), (0.017557831, 'در'), (0.016883692, 'برون_آرد'), (0.016764348, 'به'), (0.014489419, 'مدهوش'), (0.009773819, 'زلیخا'), (0.008949379, 'دل')], -6.673688962037438)\n",
      "--------------------------------------------------\n",
      "([(0.18698277, 'حریف'), (0.12998237, 'بیگانه'), (0.07759007, 'زندان'), (0.05986617, 'و'), (0.04770248, 'در'), (0.04527089, 'به'), (0.0335582, 'از'), (0.03353003, 'آشنایی'), (0.033129748, 'را'), (0.031626657, 'اله'), (0.030039815, 'مصر'), (0.028852908, 'نگون'), (0.025505528, 'من'), (0.023270713, 'که'), (0.022851305, 'افروز'), (0.02283192, '#است'), (0.019482194, 'مسند'), (0.018216388, 'بر'), (0.016719615, 'کنعان'), (0.015292069, 'این')], -6.695192925912428)\n",
      "--------------------------------------------------\n",
      "([(0.29192826, 'نگاه'), (0.09914503, 'دار'), (0.070555516, 'ابد'), (0.06724313, 'از'), (0.06564757, 'ازل'), (0.044990197, 'بر'), (0.036573626, 'درو'), (0.03379293, 'را'), (0.03331287, 'به'), (0.030963471, 'لشکر'), (0.028564593, '#است'), (0.028288467, 'ظلم'), (0.026846422, 'خیزد'), (0.024634046, 'ز'), (0.023799589, 'منصور'), (0.020072225, 'گفتمش'), (0.017817412, 'غایت'), (0.016598104, 'دل'), (0.014101461, 'کران'), (0.009009668, 'چه')], -6.7180103021123365)\n",
      "--------------------------------------------------\n",
      "([(0.35128966, 'موج'), (0.102086544, 'صفا'), (0.07950507, 'بینی'), (0.079193, 'در'), (0.06930084, 'از'), (0.060618136, 'کمند'), (0.035194647, 'جواب'), (0.024245312, 'احرام'), (0.024220645, 'این'), (0.023751182, 'فشان'), (0.020175688, 'زرد'), (0.019937083, 'کوشید#کوش'), (0.018115116, 'دل'), (0.013865853, 'چه'), (0.012591837, 'آن'), (0.011646712, 'ز'), (0.009665221, 'نمکدان'), (0.008265277, 'سؤال'), (0.008174183, 'بر'), (0.007861556, 'و')], -6.736264681264798)\n",
      "--------------------------------------------------\n",
      "([(0.20497614, 'بلند'), (0.07109566, 'کاروان'), (0.06718461, 'بدان'), (0.0655661, 'و'), (0.06375719, 'که'), (0.047412258, 'سنبل'), (0.042427704, 'پیوسته'), (0.032925315, '#است'), (0.029689804, 'به'), (0.0291535, 'کرد#کن'), (0.027190289, 'بهانه'), (0.026164986, 'را'), (0.024618333, 'تو'), (0.022535533, 'بر'), (0.021522172, 'ز'), (0.02115088, 'عنایت'), (0.017864546, 'ناب'), (0.017529689, 'مزد'), (0.015606521, 'آن'), (0.013716589, 'پرستی')], -6.746925777185198)\n",
      "--------------------------------------------------\n",
      "([(0.28342527, 'مست'), (0.24035797, 'یافت#یاب'), (0.119366996, 'و'), (0.06911977, 'از'), (0.06070382, 'قدح'), (0.053916134, 'ز'), (0.042946048, 'نرگس'), (0.039923437, 'در'), (0.016600542, 'مجو'), (0.016393235, 'که'), (0.013298881, 'شکایت'), (0.011327252, 'کرد#کن'), (0.011203144, 'چه'), (0.0074038566, 'تقوی'), (0.006476126, 'صلاح'), (0.004679615, '#است'), (0.0014285741, 'به'), (4.4465986e-07, 'خنک'), (4.4465986e-07, 'حیرتم'), (4.4465986e-07, 'مرجان')], -6.760756132749758)\n",
      "--------------------------------------------------\n",
      "([(0.17502476, 'چاره'), (0.12081743, 'مشکل'), (0.10375496, 'آرد'), (0.08424422, 'خواه'), (0.08125071, 'سال'), (0.07736567, 'و'), (0.04778923, 'را'), (0.047277607, 'دانش'), (0.04268297, '#است'), (0.04097244, 'کرد#کن'), (0.03776271, 'حوصله'), (0.032989334, 'وگرنه'), (0.023235524, 'این'), (0.019906936, 'دل'), (0.01892461, 'حل'), (0.014942723, 'نسرین'), (0.010172941, 'اشتیاق'), (0.009278535, 'در'), (0.008326386, 'که'), (1.020904e-06, 'حیوان')], -7.023241726205803)\n",
      "--------------------------------------------------\n",
      "([(0.17764573, 'تار'), (0.09448396, 'مرهم'), (0.06859274, 'عزت'), (0.05013389, 'را'), (0.047408294, 'به'), (0.04468828, 'و'), (0.040138077, 'گوشم'), (0.036390413, 'دل'), (0.035453916, 'کشور'), (0.034587752, 'که'), (0.032762412, '#است'), (0.03250959, 'سزا'), (0.03201674, 'پخت#پز'), (0.028149545, 'ز'), (0.026962848, 'مبارک'), (0.024345001, 'تو'), (0.024092097, 'من'), (0.023710892, 'قدیم'), (0.019562563, 'بر'), (0.01855141, 'پخته')], -7.038768049416311)\n",
      "--------------------------------------------------\n"
     ]
    },
    {
     "name": "stdout",
     "output_type": "stream",
     "text": [
      "([(0.59082866, 'خون'), (0.06782923, 'کجاست'), (0.06642188, 'شیر'), (0.06259509, 'فدا'), (0.04992036, 'کرد#کن'), (0.03691675, 'از'), (0.027507352, 'گرفته'), (0.021604639, 'نازنین'), (0.016936209, 'مذهب'), (0.012266935, 'مادر'), (0.01038055, 'نکهت'), (0.008196801, 'پسر'), (0.0066732336, '#است'), (0.005507142, 'که'), (0.004906207, 'این'), (0.00474558, 'تو'), (0.004432596, 'چه'), (7.2497323e-07, 'قابل'), (7.2497323e-07, 'مرجان'), (7.2497323e-07, 'فن')], -7.107774183485914)\n",
      "--------------------------------------------------\n",
      "([(0.1780691, 'کیست'), (0.10487709, 'شهر'), (0.10121202, 'خسته'), (0.09967061, 'فغان'), (0.07368674, 'که'), (0.07149803, 'دل'), (0.06629964, 'کدام'), (0.056567617, 'در'), (0.051680077, 'من'), (0.04858967, 'و'), (0.034174558, 'ز'), (0.033831235, 'سرگشته'), (0.0333403, 'این'), (0.030891933, 'به'), (0.008104418, '#است'), (0.004260434, 'اندرون'), (1.0094664e-06, 'حیوان'), (1.0094664e-06, 'بنمای'), (1.0094664e-06, 'مرجان'), (1.0094664e-06, 'قابل')], -7.14728324542123)\n",
      "--------------------------------------------------\n",
      "([(0.5884705, 'کشید#کش'), (0.09958123, 'نهان'), (0.064601086, 'زار'), (0.05308768, 'من'), (0.04311525, 'قبول'), (0.03201235, 'که'), (0.022067852, 'سعادت'), (0.014754421, 'در'), (0.013857509, 'آن'), (0.013518384, 'و'), (0.0127970725, 'شک'), (0.011847984, 'چه'), (0.009726693, 'کلید'), (0.007940032, 'دل'), (0.0073966165, '#است'), (0.0032855275, 'این'), (6.032092e-07, 'حیرتم'), (6.032092e-07, 'تنگنا'), (6.032092e-07, 'بباید'), (6.032092e-07, 'حیوان')], -7.16222820001713)\n",
      "--------------------------------------------------\n",
      "([(0.7351372, 'با'), (0.08356459, 'توان'), (0.06845606, 'تو'), (0.023423655, 'دل'), (0.016680526, 'این'), (0.01422301, 'را'), (0.014049124, 'سنگین'), (0.013471654, 'کشت'), (0.012879212, 'نکته'), (0.007443075, 'و'), (0.0040423186, 'در'), (0.0036528572, 'آن'), (0.0010407232, 'که'), (0.000893577, 'به'), (3.239292e-07, 'تنگنا'), (3.239292e-07, 'کرانه'), (3.239292e-07, 'حیرتم'), (3.239292e-07, 'بباید'), (3.239292e-07, 'حیوان'), (3.239292e-07, 'قابل')], -7.204404938894924)\n",
      "--------------------------------------------------\n",
      "([(0.19571696, 'ذوق'), (0.0742493, 'آستان'), (0.07083604, 'به'), (0.056465495, 'بر'), (0.05601625, 'زهر'), (0.05365835, 'گشته'), (0.04944162, 'از'), (0.03493549, 'تاج'), (0.033380505, 'نوبهار'), (0.031863756, 'لازم'), (0.031125331, 'دوخت#دوز'), (0.030534014, 'را'), (0.029784273, 'طور'), (0.028258335, '#است'), (0.027257873, 'ز'), (0.02602414, 'بوستان'), (0.02084947, 'درگه'), (0.016854284, 'آن'), (0.015946798, 'تو'), (0.015238656, 'که')], -7.2206989267699555)\n",
      "--------------------------------------------------\n",
      "([(0.30424306, 'باید'), (0.13693856, 'چندین'), (0.10011189, 'خمار'), (0.08428597, 'زنجیر'), (0.05075929, 'در'), (0.04097952, 'را'), (0.039890494, 'از'), (0.033623792, 'رنگین'), (0.02954171, 'قبله'), (0.027142186, 'فتاد'), (0.025669603, 'دل'), (0.015898116, 'به'), (0.01585126, 'آشناست'), (0.012791311, 'ملال'), (0.0111529995, 'من'), (0.011144691, 'این'), (0.010819817, 'بر'), (0.010316488, 'تحمل'), (0.0075587183, 'عشقبازی'), (0.007293704, 'آریم')], -7.236015364010279)\n",
      "--------------------------------------------------\n",
      "([(0.1993077, 'بام'), (0.12850219, 'پرتو'), (0.12125059, 'نسبت'), (0.10216789, 'به'), (0.09691487, 'مزن'), (0.09065006, 'از'), (0.07836266, 'طالع'), (0.0331433, 'ز'), (0.02949092, 'نوری'), (0.028566713, 'در'), (0.021535562, 'تو'), (0.017142314, 'کرد#کن'), (0.015005715, 'مقبل'), (0.012231999, 'که'), (0.010240774, 'افق'), (0.0046594767, 'دل'), (0.0045731845, 'آن'), (1.945239e-06, 'مرجان'), (1.945239e-06, 'حیرتم'), (1.945239e-06, 'حیوان')], -7.339691007651554)\n",
      "--------------------------------------------------\n",
      "([(0.116886355, 'خاموش'), (0.07959954, 'مطلب'), (0.0672513, 'و'), (0.057723787, 'خفته'), (0.05622809, 'کشتی'), (0.05335159, 'نان'), (0.047936745, 'بستر'), (0.04387932, 'بالین'), (0.04037531, 'مهمان'), (0.03967759, 'در'), (0.038535286, 'بر'), (0.031828187, 'کاسه'), (0.03123246, 'از'), (0.029681368, 'کرد#کن'), (0.027845662, 'را'), (0.027099952, 'روا'), (0.027014479, 'لنگر'), (0.02244774, 'این'), (0.021030655, 'من'), (0.02091075, 'پسته')], -7.3410523691855705)\n",
      "--------------------------------------------------\n",
      "([(0.23473507, 'قدم'), (0.23291196, 'زیر'), (0.07955451, 'به'), (0.06780315, 'در'), (0.05996826, 'مباش'), (0.057184674, 'و'), (0.051779184, 'قفا'), (0.04958124, 'مطرب'), (0.04389435, 'طاق'), (0.038492832, 'سپهر'), (0.035487846, 'نکو'), (0.013809213, 'پرسیدن'), (0.008974034, 'کرد#کن'), (0.008002444, 'چه'), (0.007071346, 'نکوست'), (0.005198245, 'از'), (0.0027528487, 'دل'), (0.00020102008, 'تو'), (8.082467e-07, 'آثار'), (8.082467e-07, 'فن')], -7.358203277144353)\n",
      "--------------------------------------------------\n",
      "([(0.26891813, 'نی'), (0.10601738, 'محرم'), (0.0657191, 'و'), (0.060826134, 'از'), (0.060189057, 'امتحان'), (0.05668352, 'آگاه'), (0.049178928, 'آگه'), (0.037388727, 'آرم'), (0.036205422, 'ز'), (0.0315383, 'کویت'), (0.025005342, 'شوریده'), (0.02072023, 'من'), (0.020037692, 'منش'), (0.01972405, 'بهره'), (0.017664086, 'این'), (0.017014964, 'را'), (0.014409063, 'ریا'), (0.011286521, 'مخوان'), (0.010458473, 'که'), (0.009530034, 'دل')], -7.397143944812558)\n",
      "--------------------------------------------------\n",
      "([(0.5484886, 'می'), (0.076811776, 'به'), (0.07090984, 'بیش'), (0.059884112, 'ده'), (0.053297073, 'و'), (0.033308204, 'فروخت#فروش'), (0.03274332, 'که'), (0.022009289, 'از'), (0.018202776, 'این'), (0.015421433, 'بردن'), (0.013628289, 'در'), (0.013270214, 'بهتر'), (0.011257032, 'چه'), (0.009682414, 'ساقیا'), (0.008064669, 'کرد#کن'), (0.0066576074, 'نمی\\u200cارزد'), (0.005218842, 'دلق'), (3.5598032e-07, 'حیرتم'), (3.5598032e-07, 'بباید'), (3.5598032e-07, 'حیوان')], -7.496053834680111)\n",
      "--------------------------------------------------\n",
      "([(0.41000557, 'ماند#مان'), (0.12384242, 'شاه'), (0.07133318, 'به'), (0.065284446, 'در'), (0.05234401, 'و'), (0.051597085, 'که'), (0.0360566, 'خرام'), (0.031059485, 'تو'), (0.030848775, 'را'), (0.026088754, 'ز'), (0.023937246, 'سان'), (0.02103646, 'من'), (0.020557191, 'تخت'), (0.016077572, 'بر'), (0.010456073, 'قرآن'), (0.007187802, 'ندیم'), (7.1122423e-07, 'چشمه_خورشید'), (7.1122423e-07, 'فن'), (7.1122423e-07, 'پایی'), (7.1122423e-07, 'قابل')], -7.498981440910274)\n",
      "--------------------------------------------------\n",
      "([(0.8283828, 'تا'), (0.0474789, 'بر'), (0.026133034, 'گران'), (0.022995958, 'مایه'), (0.017574875, 'تو'), (0.009954036, 'از'), (0.008931493, 'آلوده'), (0.008051905, 'آموخت#آموز'), (0.006634078, 'مستور'), (0.0058527896, 'به'), (0.0052313665, '#است'), (0.004664389, 'این'), (0.004202063, 'چه'), (0.0017256662, 'آن'), (0.0013863408, 'معشوقه'), (2.4876277e-07, 'و'), (2.4876215e-07, 'تنگنا'), (2.4876215e-07, 'بباید'), (2.4876215e-07, 'کرانه'), (2.4876215e-07, 'حیرتم')], -7.500702239312559)\n",
      "--------------------------------------------------\n",
      "([(0.0851889, 'از'), (0.05857074, 'خاکسار'), (0.05383312, 'دردسر'), (0.050004363, 'آنک'), (0.044711135, 'ز'), (0.043078404, 'ابرام'), (0.042224754, 'سازی'), (0.04213483, 'پشیمان'), (0.039812453, 'زور'), (0.038529832, 'بر'), (0.03748463, 'مدار'), (0.035554867, 'و'), (0.034498777, 'در'), (0.033803683, 'را'), (0.033617985, 'خطر'), (0.030069396, 'رفیق'), (0.02829941, 'این'), (0.027617874, 'بادیه'), (0.026995398, 'من'), (0.025734458, 'کرد#کن')], -7.57943210455904)\n",
      "--------------------------------------------------\n",
      "([(0.2722931, 'توانست#توان'), (0.107020766, 'به'), (0.10131193, 'فرصت'), (0.0955643, 'شوخ'), (0.09501396, 'ریخت#ریز'), (0.089150794, 'فکر'), (0.06865859, 'کرد#کن'), (0.045245346, 'که'), (0.03809104, 'غمزه'), (0.027603086, 'خطا'), (0.013851279, 'دل'), (0.012083743, 'خصم'), (0.010478389, 'رها'), (0.009084581, 'تو'), (0.0075802626, 'آن'), (0.005404441, 'صواب'), (0.0002857264, 'و'), (3.9773968e-07, 'نمی\\u200cباید'), (3.9773968e-07, 'گزید'), (3.9773968e-07, 'چشمه_خورشید')], -7.631702742771885)\n",
      "--------------------------------------------------\n",
      "([(0.16029565, 'سیر'), (0.14851727, 'نگه'), (0.14022748, 'مه'), (0.12233039, 'بلا'), (0.078188814, 'شده'), (0.06954389, 'از'), (0.05879566, 'پیکر'), (0.041632894, 'ساحل'), (0.034981884, 'آن'), (0.030111948, 'جانب'), (0.02342752, 'چشید#چش'), (0.021264233, 'کرد#کن'), (0.016543038, 'بر'), (0.015432675, 'به'), (0.015208074, 'در'), (0.013099099, 'ناید'), (0.0083001, 'و'), (6.530009e-07, 'حیرتم'), (6.530009e-07, 'مرجان'), (6.530009e-07, 'تنگنا')], -7.692675023665822)\n",
      "--------------------------------------------------\n"
     ]
    },
    {
     "name": "stdout",
     "output_type": "stream",
     "text": [
      "([(0.16158256, 'حباب'), (0.0663791, 'فقر'), (0.052202184, 'و'), (0.045216743, 'تمکین'), (0.04477143, 'گشاد'), (0.039477736, 'به'), (0.034750495, 'در'), (0.0341621, 'کلاه'), (0.03328986, 'صف'), (0.03282403, '#است'), (0.032089688, 'از'), (0.029756011, 'را'), (0.025464915, 'ز'), (0.024653008, 'سبب'), (0.021890754, 'کرشمه'), (0.021225344, 'جاوید'), (0.01940734, 'برده'), (0.019103104, 'چه'), (0.018549368, 'عرش'), (0.017923772, 'وار')], -7.706217682415938)\n",
      "--------------------------------------------------\n",
      "([(0.124589965, 'چین'), (0.08504804, 'فردا'), (0.075423144, 'حقیقت'), (0.07497715, 'و'), (0.05622281, 'بهشت'), (0.05179632, 'در'), (0.04645074, 'زده'), (0.045025826, 'استغنا'), (0.04213208, 'از'), (0.029674483, 'بره'), (0.027363747, 'بر'), (0.026197981, 'که'), (0.024535853, 'دان'), (0.024461668, 'پدید'), (0.023705127, 'ز'), (0.022006523, 'ببینید'), (0.019010404, 'مجاز'), (0.017840542, 'به'), (0.017429117, 'کرد#کن'), (0.01598481, 'پاسبان')], -7.717653061932721)\n",
      "--------------------------------------------------\n",
      "([(0.35533983, 'دامن'), (0.23518716, 'همچو'), (0.08623019, 'کنار'), (0.079697855, 'رود'), (0.075213484, 'از'), (0.045625046, 'من'), (0.036649123, 'عزیز'), (0.024087122, 'به'), (0.011310931, '#است'), (0.009225816, 'را'), (0.0076346155, 'گمان_مبر'), (0.0069848136, 'جیحون'), (0.0056589544, 'منبر'), (0.0052676313, 'دل'), (0.004651186, 'آراسته'), (0.0039452086, 'ز'), (0.0036464436, 'زلفین'), (0.001676933, 'آن'), (6.122345e-07, 'حیرتم'), (6.122345e-07, 'بباید')], -7.766705791885108)\n",
      "--------------------------------------------------\n",
      "([(0.28831473, 'خیال'), (0.27839103, 'بست#بند'), (0.08387858, 'در'), (0.072533265, 'به'), (0.063215554, 'قطره'), (0.061022505, 'دل'), (0.04139809, 'سوز'), (0.02882801, 'گداز'), (0.024911502, '#است'), (0.02176403, 'از'), (0.014390375, 'ز'), (0.011698148, 'که'), (0.0071934713, 'زلال'), (0.001242209, 'و'), (3.7867432e-07, 'متاع'), (3.7867432e-07, 'تنگنا'), (3.7867432e-07, 'بباید'), (3.7867432e-07, 'حیرتم'), (3.7867432e-07, 'رهبر'), (3.7867432e-07, 'کرانه')], -7.949450792360247)\n",
      "--------------------------------------------------\n",
      "([(0.17211688, 'دوستان'), (0.102479786, 'کج'), (0.07353404, 'و'), (0.071361974, 'از'), (0.06350673, 'گله'), (0.056998603, 'احباب'), (0.0560501, 'فضل'), (0.047584217, 'گداخت'), (0.040054798, 'کرد#کن'), (0.039565694, 'بر'), (0.036231153, 'را'), (0.033074405, 'عرضه'), (0.032248057, 'ز'), (0.03166403, 'زینهار'), (0.024726305, 'شهره'), (0.022074213, 'این'), (0.02172498, 'من'), (0.01994412, 'نای'), (0.014621304, 'به'), (0.010154475, 'مشعله')], -7.961142404010348)\n",
      "--------------------------------------------------\n",
      "([(0.15529941, 'فنا'), (0.06773516, 'و'), (0.06067439, 'قاصد'), (0.05758089, 'از'), (0.055275634, 'باطل'), (0.054990318, 'یاری'), (0.049045835, 'در'), (0.04399483, 'دشوار'), (0.04310725, 'مانند'), (0.04128981, 'باب'), (0.03945896, 'کرد#کن'), (0.037088834, 'عارف'), (0.034372997, 'عام'), (0.027993295, 'من'), (0.027237987, 'به'), (0.025810389, 'خلد'), (0.023073506, 'طوطی'), (0.019163067, 'را'), (0.018812284, 'نفی'), (0.018757703, 'چه')], -7.965375306563785)\n",
      "--------------------------------------------------\n",
      "([(0.28681606, 'یاد'), (0.12454045, 'تیر'), (0.11282581, 'گو'), (0.08359195, 'از'), (0.06506959, 'کرد#کن'), (0.055395514, 'به'), (0.051412303, 'که'), (0.04942537, 'کمین'), (0.031637117, 'اغیار'), (0.030309215, 'ز'), (0.028056012, 'آن'), (0.028022056, 'کمان'), (0.023470795, 'نشاید'), (0.015223033, 'و'), (0.005300206, 'چه'), (0.003812364, 'وفاداری'), (0.002940955, 'بگریزد'), (6.6916226e-07, 'حیوان'), (6.6916226e-07, 'مرجان'), (6.6916226e-07, 'فن')], -8.055736981966733)\n",
      "--------------------------------------------------\n",
      "([(0.1191728, 'خموش'), (0.06571064, 'ویرانه'), (0.06401079, 'بی\\u200cنشان'), (0.060179286, 'ریش'), (0.04973044, 'به'), (0.048664905, 'حضرت'), (0.044309206, 'دل'), (0.037945777, 'را'), (0.037481647, 'شغل'), (0.033443652, 'از'), (0.03085416, 'این'), (0.028959898, 'کرد#کن'), (0.027973339, 'که'), (0.027606279, 'خیل'), (0.026547719, 'خلاص'), (0.026516011, 'ز'), (0.026015032, 'طواف'), (0.022847842, 'من'), (0.022731436, 'بگرفت'), (0.021887397, 'خطاست')], -8.133568909649831)\n",
      "--------------------------------------------------\n",
      "([(0.5253677, 'نفس'), (0.10885912, 'خواست#خواه'), (0.084065884, 'طبع'), (0.074308254, 'از'), (0.0377405, 'نگار'), (0.031194953, 'من'), (0.023605498, 'به'), (0.019991562, 'کرد#کن'), (0.019939298, 'ز'), (0.01895396, 'دایم'), (0.014740576, 'افسوس'), (0.013214259, 'بادام'), (0.006895825, 'ای_بسا'), (0.0064354157, 'واله'), (0.006161682, 'در'), (0.003921721, 'لحد'), (0.0033119603, 'و'), (4.0182653e-07, 'قابل'), (4.0182653e-07, 'حیوان'), (4.0182653e-07, 'مرجان')], -8.185163572613158)\n",
      "--------------------------------------------------\n",
      "([(0.17861106, 'عدم'), (0.09635147, 'از'), (0.09493651, 'گهر'), (0.08617836, 'خویشتن'), (0.07548048, 'طاقت'), (0.0555027, 'نومید'), (0.043625135, 'را'), (0.040249392, 'ز'), (0.039917156, 'مکش'), (0.035354722, 'به'), (0.035305068, 'در'), (0.03267769, 'مشک'), (0.029595135, 'سجود'), (0.028093314, 'بر'), (0.014711634, 'صلا'), (0.013996064, 'قدس'), (0.013381465, '#است'), (0.0122633455, 'ریحان'), (0.011881556, 'بهشتی'), (0.01170948, 'آن')], -8.207540808037828)\n",
      "--------------------------------------------------\n",
      "([(0.37426117, 'دیگر'), (0.09764966, 'مجلس'), (0.0938054, 'قابل'), (0.07704538, 'بستان'), (0.066359825, 'در'), (0.06493715, 'پیچ'), (0.06195849, 'را'), (0.04376664, 'و'), (0.027454676, 'می\\u200cتپد'), (0.022350103, 'بر'), (0.01484446, 'من'), (0.013981492, 'کبوتر'), (0.008111254, 'شحنه'), (0.008082615, 'دل'), (0.007608544, 'از'), (0.007290106, 'بباید'), (0.0058622737, 'مرجان'), (0.0014370022, 'که'), (9.93655e-07, 'کرانه'), (9.93655e-07, 'تنگنا')], -8.247722583854696)\n",
      "--------------------------------------------------\n",
      "([(0.31018332, 'کجا'), (0.061428986, 'از'), (0.050874256, 'و'), (0.04849905, 'صفت'), (0.042968057, 'شه'), (0.04244655, 'من'), (0.03911673, 'رمز'), (0.038948208, 'جرم'), (0.03857321, 'صیاد'), (0.036911823, 'آغاز'), (0.02847455, 'رعنا'), (0.024302185, 'آرا'), (0.023658901, 'را'), (0.023416862, 'آن'), (0.02159639, 'این'), (0.02146541, 'تو'), (0.019020626, 'کرد#کن'), (0.017865706, 'برنخاست'), (0.016414916, 'برآر'), (0.014149485, 'ستاره')], -8.248009860530313)\n",
      "--------------------------------------------------\n",
      "([(0.55777204, 'سر'), (0.10489329, 'به'), (0.10145149, 'پای'), (0.045488622, 'در'), (0.04394436, 'تو'), (0.034676965, 'ز'), (0.032155186, 'رسید'), (0.025020845, 'که'), (0.013239607, 'حاجت'), (0.011495151, 'را'), (0.008914063, 'چه'), (0.0067143375, 'جانا'), (0.0057815686, '#است'), (0.00414282, 'بوس'), (0.0036557084, 'آستانه'), (2.0331781e-07, 'قابل'), (2.0331781e-07, 'حیوان'), (2.0331781e-07, 'فن'), (2.0331781e-07, 'مرجان'), (2.0331781e-07, 'چشمه_خورشید')], -8.251908003255275)\n",
      "--------------------------------------------------\n",
      "([(0.17453413, 'عجز'), (0.08866757, 'غرور'), (0.067417, '#است'), (0.05791271, 'دیدن'), (0.056226738, 'به'), (0.05404695, 'چشمه'), (0.051739994, 'فهمید#فهم'), (0.04884594, 'از'), (0.04844969, 'دریاب'), (0.04466013, 'تیره'), (0.042869363, 'و'), (0.0321344, 'را'), (0.029091675, 'این'), (0.028700266, 'محراب'), (0.023627963, 'شیدا'), (0.023057584, 'طاعت'), (0.017978849, 'من'), (0.01644323, 'خواهد_شدن'), (0.012862591, 'ترحم'), (0.012317353, 'کرد#کن')], -8.327593665337128)\n",
      "--------------------------------------------------\n",
      "([(0.28480667, 'شکر'), (0.17508523, 'دهان'), (0.12577401, 'بخت'), (0.09069778, 'تلخ'), (0.056786735, 'عذر'), (0.047310293, 'آن'), (0.046500105, 'که'), (0.04122321, 'عیار'), (0.037551787, 'را'), (0.03365721, 'در'), (0.023732997, 'به'), (0.020249555, 'چه'), (0.013014491, 'و'), (1.1214562e-06, 'حیوان'), (1.1214562e-06, 'تنگنا'), (1.1214562e-06, 'قابل'), (1.1214562e-06, 'فن'), (1.1214562e-06, 'بباید'), (1.1214562e-06, 'غفلت'), (1.1214562e-06, 'حیرتم')], -8.387016824545785)\n",
      "--------------------------------------------------\n",
      "([(0.54005075, 'بی'), (0.110706106, 'و'), (0.0835372, 'لاله'), (0.053300317, 'توبه'), (0.0315017, 'کرد#کن'), (0.023809059, 'عود'), (0.023746463, 'تنم'), (0.02158918, 'آتشم'), (0.01832993, 'بشکست'), (0.017034316, 'مجمر'), (0.0157607, 'بسوخت'), (0.015356507, 'خمخانه'), (0.014864975, 'پیاله'), (0.00975063, 'چه'), (0.00888954, 'از'), (0.008752698, 'دل'), (0.00070942676, 'که'), (7.1868897e-07, 'مرجان'), (7.1868897e-07, 'پایی'), (7.1868897e-07, 'قابل')], -8.404525289905823)\n",
      "--------------------------------------------------\n"
     ]
    },
    {
     "name": "stdout",
     "output_type": "stream",
     "text": [
      "([(0.1557527, 'زاهد'), (0.12505154, 'و'), (0.0952191, 'بازی'), (0.09393589, 'بنیاد'), (0.086501844, 'معشوق'), (0.083521366, 'حجاب'), (0.056939103, 'از'), (0.04317377, '#است'), (0.04034867, 'برخیز'), (0.03886889, 'زنهار'), (0.02877991, 'خودی'), (0.028767485, 'که'), (0.026619041, 'کرد#کن'), (0.02408479, 'صومعه'), (0.01623323, 'آن'), (0.016138988, 'این'), (0.012649824, 'مکر'), (0.008374111, 'دیر_مغان'), (0.008267575, 'حقه'), (0.0053210002, 'حقا')], -8.414407213964328)\n",
      "--------------------------------------------------\n",
      "([(0.24652301, 'و'), (0.16579954, 'ملک'), (0.1467418, 'دین'), (0.116615355, 'عین'), (0.08337176, 'آدم'), (0.08153593, 'کفر'), (0.061836123, 'در'), (0.037252534, 'دل'), (0.020487117, 'از'), (0.010638078, 'کرد#کن'), (0.00840618, 'اش'), (0.008064299, 'این'), (0.0058146487, 'بر'), (0.0038761657, 'آن'), (9.4387013e-07, 'تنگنا'), (9.4387013e-07, 'حیرتم'), (9.4387013e-07, 'بباید'), (9.4387013e-07, 'عطا'), (9.4387013e-07, 'حیوان'), (9.4387013e-07, 'سفید')], -8.423972383493743)\n",
      "--------------------------------------------------\n",
      "([(0.29599452, 'جهان'), (0.20428242, 'روز'), (0.16523477, 'کی'), (0.08202083, 'و'), (0.056006674, 'بین'), (0.044844806, 'تو'), (0.03193803, 'به'), (0.030626077, 'ز'), (0.024668109, 'این'), (0.017153477, 'کرد#کن'), (0.016407596, 'دمید'), (0.015877472, 'که'), (0.011609025, 'آن'), (0.0022195312, 'حکیم'), (3.4703223e-07, 'تنگنا'), (3.4703223e-07, 'مپسند'), (3.4703223e-07, 'رهبر'), (3.4703223e-07, 'حیرتم'), (3.4703223e-07, 'بباید'), (3.4703223e-07, 'خنک')], -8.521413524352953)\n",
      "--------------------------------------------------\n",
      "([(0.23970422, 'بار'), (0.14884557, 'تر'), (0.12197812, 'تنگ'), (0.08373084, 'از'), (0.06659979, 'دل'), (0.060946006, 'و'), (0.05793367, 'رفته'), (0.055689692, 'صحبت'), (0.05555524, 'به'), (0.051310554, 'خشک'), (0.025023261, 'برف'), (0.01601991, 'این'), (0.0071862526, 'آن'), (0.0069254893, 'گونه'), (0.0008153253, 'در'), (5.396848e-07, 'چشمه_خورشید'), (5.396848e-07, 'قابل'), (5.396848e-07, 'پایی'), (5.396848e-07, 'نقش_نگین'), (5.396848e-07, 'فن')], -8.571551308798346)\n",
      "--------------------------------------------------\n",
      "([(0.12282008, 'وضع'), (0.110384636, 'جبین'), (0.06387951, 'از'), (0.058876604, 'ز'), (0.05011889, 'به'), (0.04856272, '#است'), (0.046241213, 'بی\\u200cنیاز'), (0.04215032, 'و'), (0.034964044, 'خجل'), (0.03334099, 'زنی'), (0.032965463, 'طینت'), (0.032490943, 'داده'), (0.030192947, 'را'), (0.029454548, 'اصل'), (0.02914031, 'تکلف'), (0.02114485, 'سرخ'), (0.021119118, 'چه'), (0.020950412, 'دشنام'), (0.019782852, 'تو'), (0.015452871, 'درک')], -8.65288450121477)\n",
      "--------------------------------------------------\n",
      "([(0.22985879, 'آورد#آور'), (0.16178592, 'آسمان'), (0.06436934, 'به'), (0.058387496, 'بر'), (0.050002452, 'را'), (0.04746926, 'از'), (0.040484022, 'رقص'), (0.037502065, 'در'), (0.03443252, 'فال'), (0.025869608, 'افشاند'), (0.025405468, 'ز'), (0.02502225, 'که'), (0.024034074, 'زهره'), (0.022705568, 'مسیحا'), (0.02178832, 'پیوند'), (0.019257514, 'غماز'), (0.018868716, 'ناامیدی'), (0.017196469, 'هواست'), (0.014880879, 'ورزید#ورز'), (0.013972475, 'تو')], -8.790574393434769)\n",
      "--------------------------------------------------\n",
      "([(0.22704855, 'خورد#خور'), (0.20651144, 'چنین'), (0.19805151, 'باده'), (0.06764589, 'که'), (0.05821138, 'این'), (0.056210123, 'عیب'), (0.04639664, 'بدین'), (0.03529248, 'وین'), (0.024532473, 'ملامت'), (0.023284735, '#است'), (0.022671215, 'را'), (0.018177213, 'چه'), (0.013796038, 'آن'), (6.741992e-07, 'حیوان'), (6.741992e-07, 'تنگنا'), (6.741992e-07, 'بباید'), (6.741992e-07, 'کرانه'), (6.741992e-07, 'ولیک'), (6.741992e-07, 'حیرتم'), (6.741992e-07, 'طفل')], -8.863736454882426)\n",
      "--------------------------------------------------\n",
      "([(0.54837185, 'آمد#آ'), (0.09416019, 'به'), (0.0867046, 'که'), (0.06066998, 'در'), (0.060316514, 'زمان'), (0.042100426, 'خراب'), (0.03109966, 'ز'), (0.028532974, 'تو'), (0.016074618, 'و'), (0.015657214, 'این'), (0.014359418, 'آباد'), (0.00097497477, '#است'), (3.0360584e-07, 'حیرتم'), (3.0360584e-07, 'تنگنا'), (3.0360584e-07, 'کرانه'), (3.0360584e-07, 'بباید'), (3.0360584e-07, 'حیوان'), (3.0360584e-07, 'مرجان'), (3.0360584e-07, 'طفل'), (3.0360584e-07, 'رهبر')], -8.957118617715194)\n",
      "--------------------------------------------------\n",
      "([(0.5334288, 'نه'), (0.13681953, 'عقل'), (0.08811971, 'دمی'), (0.06838905, 'که'), (0.038843684, 'تو'), (0.030120509, 'را'), (0.024445513, 'این'), (0.024193428, 'ز'), (0.022051735, 'آن'), (0.02170166, 'بی\\u200cخبر'), (0.0046294397, 'وسوسه'), (0.0038591982, 'به'), (0.0016452005, 'بازآید'), (5.4444723e-07, 'مرجان'), (5.4444723e-07, 'حیوان'), (5.4444723e-07, 'بباید'), (5.4444723e-07, 'فن'), (5.4444723e-07, 'حیرتم'), (5.4444723e-07, 'آثار'), (5.4444723e-07, 'قابل')], -9.095218374070818)\n",
      "--------------------------------------------------\n",
      "([(0.38513517, 'کس'), (0.2401886, 'کار'), (0.07235481, 'بد'), (0.05536601, 'که'), (0.0489376, 'را'), (0.045243528, 'و'), (0.043026455, 'نیک'), (0.03980777, 'من'), (0.024556922, 'عاقبت'), (0.023760349, 'تو'), (0.02036412, 'آن'), (3.907685e-07, 'طفل'), (3.907685e-07, 'ولیک'), (3.907685e-07, 'کرانه'), (3.907685e-07, 'تنگنا'), (3.907685e-07, 'حیرتم'), (3.907685e-07, 'خنک'), (3.907685e-07, 'حیوان'), (3.907685e-07, 'بباید'), (3.907685e-07, 'رهبر')], -9.283433185521904)\n",
      "--------------------------------------------------\n",
      "([(0.3557647, 'شب'), (0.12757088, 'اهل'), (0.12103996, 'قدر'), (0.08750549, 'امشب'), (0.06699917, 'خلوت'), (0.0616732, 'دولت'), (0.056672096, 'در'), (0.043836158, 'یا_رب'), (0.029601589, '#است'), (0.014440789, 'این'), (0.013493446, 'آن'), (0.009915815, 'کدامین'), (0.0070299306, 'کوکب'), (0.0025990678, 'که'), (5.773004e-07, 'قابل'), (5.773004e-07, 'مرجان'), (5.773004e-07, 'فن'), (5.773004e-07, 'مپسند'), (5.773004e-07, 'چشمه_خورشید'), (5.773004e-07, 'پایی')], -9.64230056740909)\n",
      "--------------------------------------------------\n",
      "([(0.2134743, 'پی'), (0.15807047, 'کوی'), (0.14700393, 'از'), (0.13884105, 'مپرس'), (0.062849656, 'زحمت'), (0.06012393, 'در'), (0.051888507, 'ز'), (0.046704646, 'زمانه'), (0.042720195, 'آزار'), (0.03445362, 'محروم'), (0.017947324, 'نادان'), (0.009662304, 'به'), (0.009250402, 'که'), (0.0045250305, 'چه'), (7.720765e-07, 'قابل'), (7.720765e-07, 'تنگنا'), (7.720765e-07, 'مرجان'), (7.720765e-07, 'بباید'), (7.720765e-07, 'حیرتم'), (7.720765e-07, 'چشمه_خورشید')], -9.781445439845308)\n",
      "--------------------------------------------------\n",
      "([(0.7209301, 'کن'), (0.099943, 'و'), (0.05724434, 'عیان'), (0.05056554, 'هنر'), (0.021661611, 'مدعی'), (0.017544933, 'ختم'), (0.016431723, 'بر'), (0.010989421, 'تو'), (0.0010433897, '#است'), (0.00071036187, 'چه'), (0.00021287458, 'آن'), (8.453203e-07, 'حیوان'), (8.453203e-07, 'بباید'), (8.453203e-07, 'فن'), (8.453203e-07, 'تنگنا'), (8.453203e-07, 'غفلت'), (8.453203e-07, 'پایی'), (8.453203e-07, 'قابل'), (8.453203e-07, 'حیرتم'), (8.453203e-07, 'مرجان')], -9.905393235636437)\n",
      "--------------------------------------------------\n",
      "([(0.3914561, 'پیش'), (0.18464078, 'نشست#نشین'), (0.15082201, 'اوست'), (0.080787234, 'که'), (0.05618685, 'به'), (0.04090568, 'در'), (0.034235206, 'و'), (0.019479, 'خیر'), (0.0161507, 'چه'), (0.013393091, 'دل'), (0.005722253, 'سالک'), (0.004231248, 'طریقت'), (6.1798363e-07, 'بباید'), (6.1798363e-07, 'حیرتم'), (6.1798363e-07, 'مرجان'), (6.1798363e-07, 'فن'), (6.1798363e-07, 'چشمه_خورشید'), (6.1798363e-07, 'پایی'), (6.1798363e-07, 'حیوان'), (6.1798363e-07, 'قابل')], -10.055972381153973)\n",
      "--------------------------------------------------\n",
      "([(0.41124174, 'کند'), (0.17004804, 'ساخت#ساز'), (0.09822166, 'خوب'), (0.07504762, 'که'), (0.06878331, 'مرد#میر'), (0.03917678, 'مسکین'), (0.031620134, 'رحم'), (0.03160234, 'دل'), (0.02964068, 'غریب'), (0.022539062, 'بر'), (0.011608781, 'دنبال'), (0.007126396, 'در'), (0.0016246382, 'این'), (5.3398037e-07, 'حیرتم'), (5.3398037e-07, 'تنگنا'), (5.3398037e-07, 'کرانه'), (5.3398037e-07, 'مرجان'), (5.3398037e-07, 'قابل'), (5.3398037e-07, 'بباید'), (5.3398037e-07, 'حیوان')], -10.179734982359669)\n",
      "--------------------------------------------------\n",
      "([(0.34022003, 'داد#ده'), (0.19985655, 'عاشق'), (0.14505242, 'بو'), (0.07905863, 'آرزو'), (0.07686487, 'به'), (0.040132366, 'زنگ'), (0.04002728, 'نسیم'), (0.024591628, 'دل'), (0.023446353, 'خوردن'), (0.014219424, 'که'), (0.009991545, 'کسب'), (0.004713303, 'در'), (0.00062078686, 'و'), (3.7433466e-07, 'گزید'), (3.7433466e-07, 'قابل'), (3.7433466e-07, 'فن'), (3.7433466e-07, 'حیوان'), (3.7433466e-07, 'تنگنا'), (3.7433466e-07, 'حیرتم'), (3.7433466e-07, 'بباید')], -10.189595829573328)\n",
      "--------------------------------------------------\n"
     ]
    },
    {
     "name": "stdout",
     "output_type": "stream",
     "text": [
      "([(0.50085497, 'گرفت#گیر'), (0.107232966, 'خنده'), (0.08266623, 'که'), (0.06560309, 'ز'), (0.056721777, 'مفت'), (0.054581363, 'جور'), (0.036874786, 'حذر'), (0.026044024, 'آن'), (0.022145644, 'وان'), (0.0171059, 'کرد#کن'), (0.015315768, 'تو'), (0.012677161, 'چه'), (6.7591196e-07, 'چشمه_خورشید'), (6.7591196e-07, 'فن'), (6.7591196e-07, 'حیوان'), (6.7591196e-07, 'قابل'), (6.7591196e-07, 'بباید'), (6.7591196e-07, 'نقش_نگین'), (6.7591196e-07, 'مرجان'), (6.7591196e-07, 'تنگنا')], -10.25174605271668)\n",
      "--------------------------------------------------\n",
      "([(0.47174814, 'عشق'), (0.24737601, 'زد#زن'), (0.051234595, 'و'), (0.048297916, 'لطف'), (0.045485616, '#است'), (0.026864782, 'از'), (0.024704576, 'باخت#باز'), (0.023983594, 'لاف'), (0.020700913, 'کرد#کن'), (0.018992824, 'طمع'), (0.009682953, 'مبر'), (0.008499277, 'دلا'), (0.0016199795, 'چست'), (2.513314e-07, 'تنگنا'), (2.513314e-07, 'حیرتم'), (2.513314e-07, 'بباید'), (2.513314e-07, 'حیوان'), (2.513314e-07, 'قابل'), (2.513314e-07, 'مرجان'), (2.513314e-07, 'فن')], -10.280343101980588)\n",
      "--------------------------------------------------\n",
      "([(0.32802194, 'ره'), (0.24185073, 'برد#بر'), (0.09148598, 'به'), (0.086246036, 'در'), (0.053456493, 'از'), (0.03769554, 'نبرد'), (0.035500675, 'من'), (0.034928817, 'وادی'), (0.03276991, 'حرم'), (0.032177765, 'که'), (0.016301835, 'دون'), (0.006412843, 'حریم'), (0.001518462, 'و'), (5.0733775e-07, 'نمی\\u200cباید'), (5.0733775e-07, 'نقش_نگین'), (5.0733775e-07, 'گزید'), (5.0733775e-07, 'کرانه'), (5.0733775e-07, 'طفل'), (5.0733775e-07, 'مپسند'), (5.0733775e-07, 'حیرتم')], -10.292953278544783)\n",
      "--------------------------------------------------\n",
      "([(0.40761736, 'گل'), (0.18432516, 'باز'), (0.18108073, 'عمر'), (0.16213597, 'بهار'), (0.018240115, 'به'), (0.011144124, 'بر'), (0.010206456, 'قسمت'), (0.006841485, 'دایره'), (0.0058491095, 'چتر'), (0.005351374, 'و'), (0.0024402922, 'غم_مخور'), (0.0020471301, 'دل'), (0.001551155, 'در'), (3.633823e-07, 'فن'), (3.633823e-07, 'تنگنا'), (3.633823e-07, 'مرجان'), (3.633823e-07, 'بباید'), (3.633823e-07, 'نقش_نگین'), (3.633823e-07, 'قابل'), (3.633823e-07, 'حیرتم')], -10.309075744894901)\n",
      "--------------------------------------------------\n",
      "([(0.69738686, 'مرا'), (0.091542535, 'گدا'), (0.075395025, 'اسرار'), (0.048994068, 'فضول'), (0.025604377, 'غیب'), (0.02384937, 'حکایت'), (0.01300645, 'فکن'), (0.009846993, 'بر'), (0.0069485256, 'آن'), (0.0021706638, 'به'), (0.0020912392, 'و'), (0.0008955452, 'که'), (7.0451256e-07, 'مرجان'), (7.0451256e-07, 'قابل'), (7.0451256e-07, 'حیرتم'), (7.0451256e-07, 'بباید'), (7.0451256e-07, 'تنگنا'), (7.0451256e-07, 'آثار'), (7.0451256e-07, 'حیوان'), (7.0451256e-07, 'فن')], -10.532359394818307)\n",
      "--------------------------------------------------\n",
      "([(0.30590874, 'سو'), (0.17931436, 'ترک'), (0.14837533, 'کام'), (0.10766043, 'وصال'), (0.09491809, 'فراق'), (0.04716952, 'میل'), (0.0408419, 'از'), (0.03693738, 'من'), (0.022789404, 'دل'), (0.00951436, 'این'), (0.0040995874, '#است'), (7.6709955e-07, 'نمی\\u200cباید'), (7.6709955e-07, 'حیرتم'), (7.6709955e-07, 'گزید'), (7.6709955e-07, 'خنک'), (7.6709955e-07, 'رهبر'), (7.6709955e-07, 'مپسند'), (7.6709955e-07, 'ولیک'), (7.6709955e-07, 'کرانه'), (7.6709955e-07, 'تنگنا')], -10.907165790098015)\n",
      "--------------------------------------------------\n",
      "([(0.4453584, 'چند'), (0.17647073, 'ساقی'), (0.170729, 'اندر'), (0.1046832, 'ریخت'), (0.07115727, 'نگر'), (0.010132808, 'این'), (0.007037663, 'در'), (0.006301687, 'کدو'), (0.003538651, 'چه'), (0.0021474294, 'به'), (7.5832844e-07, 'حیرتم'), (7.5832844e-07, 'رهبر'), (7.5832844e-07, 'بباید'), (7.5832844e-07, 'حیوان'), (7.5832844e-07, 'قابل'), (7.5832844e-07, 'مرجان'), (7.5832844e-07, 'فن'), (7.5832844e-07, 'ولیک'), (7.5832844e-07, 'تنگنا'), (7.5832844e-07, 'خنک')], -10.938636005377118)\n",
      "--------------------------------------------------\n",
      "([(0.7929226, 'او'), (0.066569224, 'در'), (0.064433224, 'را'), (0.028365485, 'که'), (0.020979438, 'درویش'), (0.011892572, 'بنه'), (0.005441947, 'دل'), (0.0043163043, 'مملکت'), (0.0036097665, 'و'), (0.0002191333, 'تو'), (3.8804654e-07, 'قابل'), (3.8804654e-07, 'حیوان'), (3.8804654e-07, 'تنگنا'), (3.8804654e-07, 'حیرتم'), (3.8804654e-07, 'فن'), (3.8804654e-07, 'کرانه'), (3.8804654e-07, 'ولیک'), (3.8804654e-07, 'طفل'), (3.8804654e-07, 'بباید'), (3.8804654e-07, 'رهبر')], -10.941026244209347)\n",
      "--------------------------------------------------\n",
      "([(0.10656622, 'بقا'), (0.08046244, 'تصویر'), (0.073251806, 'انجام'), (0.064770915, 'ام'), (0.061609514, 'از'), (0.053588185, 'شمار'), (0.045698203, 'که'), (0.03223611, 'فردوس'), (0.031752232, 'کرد#کن'), (0.029177664, '#است'), (0.02748474, 'جانانه'), (0.025636142, 'من'), (0.02514333, 'مغتنم'), (0.023940085, 'سرگردان'), (0.02322809, 'شرط'), (0.022954987, 'به'), (0.021717394, 'زمزمه'), (0.02167112, 'حافظ'), (0.02032199, 'وضو'), (0.019936634, 'کاشانه')], -11.027216070163117)\n",
      "--------------------------------------------------\n",
      "([(0.2512674, 'زلف'), (0.24646416, 'راه'), (0.14463346, 'خط'), (0.11591861, 'رخ'), (0.05552628, 'فریاد'), (0.055348393, 'خال'), (0.053421415, 'و'), (0.03377139, 'از'), (0.024285665, 'آن'), (0.017841714, 'عارض'), (0.0002799795, 'که'), (3.8543834e-07, 'تنگنا'), (3.8543834e-07, 'فن'), (3.8543834e-07, 'قابل'), (3.8543834e-07, 'چشمه_خورشید'), (3.8543834e-07, 'حیوان'), (3.8543834e-07, 'بباید'), (3.8543834e-07, 'آثار'), (3.8543834e-07, 'مرجان'), (3.8543834e-07, 'مپسند')], -11.069339502285677)\n",
      "--------------------------------------------------\n",
      "([(0.6427, 'چو'), (0.10666757, 'چمن'), (0.05526932, 'نگریست#نگر'), (0.052666757, 'بلبل'), (0.03631266, 'طرب'), (0.034735575, 'آشیان'), (0.031136496, 'ابر'), (0.023459058, 'بر'), (0.0060347524, 'بگریم'), (0.0050967643, 'زاغ'), (0.004344896, 'این'), (0.00061482826, 'که'), (2.9854783e-07, 'بباید'), (2.9854783e-07, 'تنگنا'), (2.9854783e-07, 'حیوان'), (2.9854783e-07, 'قابل'), (2.9854783e-07, 'مرجان'), (2.9854783e-07, 'فن'), (2.9854783e-07, 'حیرتم'), (2.9854783e-07, 'آثار')], -11.094711953130288)\n",
      "--------------------------------------------------\n",
      "([(0.5976678, 'خود'), (0.11112692, 'را'), (0.09405962, 'از'), (0.07225955, 'به'), (0.057699807, 'ز'), (0.025964642, 'تو'), (0.02419478, 'انداز'), (0.014967598, 'مار'), (0.0009910862, 'دل'), (3.3142214e-07, 'پیشت'), (3.3142214e-07, 'بباید'), (3.3142214e-07, 'حیوان'), (3.3142214e-07, 'تنگنا'), (3.3142214e-07, 'کرانه'), (3.3142214e-07, 'ولیک'), (3.3142214e-07, 'قابل'), (3.3142214e-07, 'طفل'), (3.3142214e-07, 'فن'), (3.3142214e-07, 'حیرتم'), (3.3142214e-07, 'رهبر')], -11.183792441503254)\n",
      "--------------------------------------------------\n",
      "([(0.29618642, 'دید#بین'), (0.19868483, 'صد'), (0.18715677, '#هست'), (0.079528764, 'هزار'), (0.065348975, 'در'), (0.065208174, 'غنچه'), (0.053514864, 'هنوز'), (0.027726466, 'تو'), (0.014558538, 'و'), (0.01121824, 'عندلیب'), (2.6943246e-07, 'تنگنا'), (2.6943246e-07, 'قابل'), (2.6943246e-07, 'مرجان'), (2.6943246e-07, 'بباید'), (2.6943246e-07, 'فن'), (2.6943246e-07, 'چشمه_خورشید'), (2.6943246e-07, 'پایی'), (2.6943246e-07, 'حیرتم'), (2.6943246e-07, 'حیوان'), (2.6943246e-07, 'غفلت')], -11.226124150841558)\n",
      "--------------------------------------------------\n",
      "([(0.29486352, 'میان'), (0.21508913, 'نشان'), (0.164906, 'پریشان'), (0.08138801, 'شاهد'), (0.061762813, 'از'), (0.06060181, 'و'), (0.033900198, 'مویی'), (0.029897204, 'آن'), (0.027506806, 'طلعت'), (0.0126324445, 'آنی'), (0.012406833, 'چه'), (0.0019906668, 'که'), (9.485995e-07, 'بباید'), (9.485995e-07, 'حیرتم'), (9.485995e-07, 'حیوان'), (9.485995e-07, 'چشمه_خورشید'), (9.485995e-07, 'کرانه'), (9.485995e-07, 'ولیک'), (9.485995e-07, 'تنگنا'), (9.485995e-07, 'مپسند')], -11.4030117958737)\n",
      "--------------------------------------------------\n",
      "([(0.21629724, 'وصل'), (0.19678825, 'فلک'), (0.19468832, 'وفا'), (0.11688323, 'کاشت#کار'), (0.09056172, 'مرگ'), (0.06672852, 'به'), (0.048473522, 'تو'), (0.044052787, 'کرد#کن'), (0.019493217, 'دو_سه'), (0.003858263, 'که'), (6.75009e-07, 'تنگنا'), (6.75009e-07, 'فن'), (6.75009e-07, 'مرجان'), (6.75009e-07, 'قابل'), (6.75009e-07, 'آثار'), (6.75009e-07, 'حیوان'), (6.75009e-07, 'بباید'), (6.75009e-07, 'حیرتم'), (6.75009e-07, 'ولیک'), (6.75009e-07, 'متاع')], -11.415910529639515)\n",
      "--------------------------------------------------\n",
      "([(0.56946117, 'جان'), (0.11948782, 'و'), (0.102139466, 'دل'), (0.07408054, 'زمین'), (0.055796288, 'جانان'), (0.04164018, 'از'), (0.018835163, '#است'), (0.010706037, 'غرض'), (0.0047736834, 'شرف'), (0.002127958, 'این'), (2.9537975e-07, 'قابل'), (2.9537975e-07, 'طفل'), (2.9537975e-07, 'حیوان'), (2.9537975e-07, 'تنگنا'), (2.9537975e-07, 'حیرتم'), (2.9537975e-07, 'رهبر'), (2.9537975e-07, 'کرانه'), (2.9537975e-07, 'ولیک'), (2.9537975e-07, 'بباید'), (2.9537975e-07, 'خنک')], -11.487902472721633)\n",
      "--------------------------------------------------\n"
     ]
    },
    {
     "name": "stdout",
     "output_type": "stream",
     "text": [
      "([(0.256635, 'خدا'), (0.1443665, 'کردن'), (0.13511002, 'را'), (0.11079359, 'سلطان'), (0.08365701, 'به'), (0.06982456, 'خدمت'), (0.054401807, 'که'), (0.052512586, 'طریق'), (0.044774584, 'بندگی'), (0.02482448, 'و'), (0.020082274, 'رها_کن'), (9.367944e-07, 'قابل'), (9.367944e-07, 'تنگنا'), (9.367944e-07, 'حیرتم'), (9.367944e-07, 'کرانه'), (9.367944e-07, 'بباید'), (9.367944e-07, 'حیوان'), (9.367944e-07, 'ولیک'), (9.367944e-07, 'پایی'), (9.367944e-07, 'مرجان')], -11.648799519114384)\n",
      "--------------------------------------------------\n",
      "([(0.27498218, 'یا'), (0.25536603, 'زان'), (0.18112591, 'خبر'), (0.13898379, 'فروغ'), (0.05631692, 'عکس'), (0.0464625, 'من'), (0.02098143, 'و'), (0.008723327, 'این'), (0.008205964, 'نگارین'), (0.005217765, 'دلستان'), (0.0012162672, 'در'), (7.506225e-07, 'حیوان'), (7.506225e-07, 'حیرتم'), (7.506225e-07, 'سفید'), (7.506225e-07, 'تنگنا'), (7.506225e-07, 'کرانه'), (7.506225e-07, 'ولیک'), (7.506225e-07, 'مرجان'), (7.506225e-07, 'بباید'), (7.506225e-07, 'قابل')], -11.649262616204727)\n",
      "--------------------------------------------------\n",
      "([(0.3827504, 'نظر'), (0.22632943, 'جلوه'), (0.108603895, 'پرسید#پرس'), (0.059051316, 'کرم'), (0.051760677, 'دلدار'), (0.04819001, 'مراد'), (0.035632726, 'شیوه'), (0.029159287, 'ز'), (0.028667847, 'دل'), (0.023157967, 'که'), (0.004602432, 'و'), (6.501208e-07, 'چشمه_خورشید'), (6.501208e-07, 'پایی'), (6.501208e-07, 'قابل'), (6.501208e-07, 'حیوان'), (6.501208e-07, 'بباید'), (6.501208e-07, 'حیرتم'), (6.501208e-07, 'نقش_نگین'), (6.501208e-07, 'مرجان'), (6.501208e-07, 'فن')], -11.67693697024549)\n",
      "--------------------------------------------------\n",
      "([(0.41265082, 'دست'), (0.2532099, 'رسید#رس'), (0.24966359, 'به'), (0.026065443, 'تو'), (0.020783393, 'دراز'), (0.01839039, 'گناه'), (0.010928992, 'چه'), (0.007217685, 'و'), (3.381127e-07, 'تنگنا'), (3.381127e-07, 'حیرتم'), (3.381127e-07, 'متاع'), (3.381127e-07, 'کرانه'), (3.381127e-07, 'بباید'), (3.381127e-07, 'آثار'), (3.381127e-07, 'حیوان'), (3.381127e-07, 'قابل'), (3.381127e-07, 'مرجان'), (3.381127e-07, 'فن'), (3.381127e-07, 'طفل'), (3.381127e-07, 'غفلت')], -11.832506424576126)\n",
      "--------------------------------------------------\n",
      "([(0.28111672, 'خاک'), (0.26898697, 'عالم'), (0.23803239, 'دو'), (0.07073283, 'ساغر'), (0.06293696, 'از'), (0.05074069, 'خواند#خوان'), (0.013896922, 'ز'), (0.0072384467, 'آن'), (0.00545917, 'رموز'), (2.6653922e-07, 'بباید'), (2.6653922e-07, 'حیرتم'), (2.6653922e-07, 'مپسند'), (2.6653922e-07, 'تنگنا'), (2.6653922e-07, 'طفل'), (2.6653922e-07, 'ولیک'), (2.6653922e-07, 'گزید'), (2.6653922e-07, 'سفید'), (2.6653922e-07, 'مرجان'), (2.6653922e-07, 'کرانه'), (2.6653922e-07, 'خجالت')], -11.990363906232123)\n",
      "--------------------------------------------------\n",
      "([(0.76087886, 'داشت#دار'), (0.091605425, 'حسن'), (0.08353499, 'که'), (0.03436673, 'حاصل'), (0.019495234, 'در'), (0.0039547547, '#است'), (0.0028856522, 'بصر'), (0.002649826, 'و'), (1.9492661e-07, 'قابل'), (1.9492661e-07, 'حیوان'), (1.9492661e-07, 'بباید'), (1.9492661e-07, 'حیرتم'), (1.9492661e-07, 'تنگنا'), (1.9492661e-07, 'طفل'), (1.9492661e-07, 'ولیک'), (1.9492661e-07, 'مپسند'), (1.9492661e-07, 'متاع'), (1.9492661e-07, 'مرجان'), (1.9492661e-07, 'کرانه'), (1.9492661e-07, 'فن')], -12.136027247961097)\n",
      "--------------------------------------------------\n",
      "([(0.394059, 'خوش'), (0.36861792, 'دم'), (0.09528684, 'وقت'), (0.07189962, 'زنده'), (0.028214248, 'همیشه'), (0.018314889, 'عیسی'), (0.010886188, 'به'), (0.009417491, 'که'), (0.0011957098, 'تو'), (6.541567e-07, 'فن'), (6.541567e-07, 'مرجان'), (6.541567e-07, 'قابل'), (6.541567e-07, 'حیوان'), (6.541567e-07, 'حیرتم'), (6.541567e-07, 'سبزه'), (6.541567e-07, 'تنگنا'), (6.541567e-07, 'نقش_نگین'), (6.541567e-07, 'چشمه_خورشید'), (6.541567e-07, 'بباید'), (6.541567e-07, 'ولیک')], -12.149808454654098)\n",
      "--------------------------------------------------\n",
      "([(0.4498151, 'اگر'), (0.2875411, 'غم'), (0.09181778, 'ماه'), (0.073140375, 'شو'), (0.042422824, 'تو'), (0.031554542, 'من'), (0.021253256, 'برآید'), (0.0014948277, 'که'), (2.9787978e-07, 'رهبر'), (2.9787978e-07, 'قابل'), (2.9787978e-07, 'مرجان'), (2.9787978e-07, 'حیوان'), (2.9787978e-07, 'بباید'), (2.9787978e-07, 'تنگنا'), (2.9787978e-07, 'خنک'), (2.9787978e-07, 'کرانه'), (2.9787978e-07, 'ولیک'), (2.9787978e-07, 'طفل'), (2.9787978e-07, 'حیرتم'), (2.9787978e-07, 'نمی\\u200cباید')], -12.418653953407983)\n",
      "--------------------------------------------------\n",
      "([(0.6751363, 'خویش'), (0.09736334, 'خام'), (0.07768248, 'سوخته'), (0.07436216, 'مگو'), (0.061478052, 'کش'), (0.005329817, 'دل'), (0.004208781, 'به'), (0.0017034885, 'چه'), (8.485332e-07, 'طفل'), (8.485332e-07, 'کرانه'), (8.485332e-07, 'رهبر'), (8.485332e-07, 'فن'), (8.485332e-07, 'تنگنا'), (8.485332e-07, 'حیرتم'), (8.485332e-07, 'بباید'), (8.485332e-07, 'حیوان'), (8.485332e-07, 'پیشت'), (8.485332e-07, 'قابل'), (8.485332e-07, 'ولیک'), (8.485332e-07, 'متاع')], -12.672444070212881)\n",
      "--------------------------------------------------\n",
      "([(0.41591722, 'روی'), (0.25567615, 'هیچ'), (0.15275256, 'تو'), (0.057791192, 'سری'), (0.03526644, 'آری'), (0.030807126, 'صاحب'), (0.029244253, 'گیسو'), (0.014790999, 'در'), (0.0055619185, 'ناظر'), (0.0005598438, 'که'), (5.066747e-07, 'فن'), (5.066747e-07, 'مرجان'), (5.066747e-07, 'قابل'), (5.066747e-07, 'بباید'), (5.066747e-07, 'چشمه_خورشید'), (5.066747e-07, 'حیرتم'), (5.066747e-07, 'نقش_نگین'), (5.066747e-07, 'پایی'), (5.066747e-07, 'حیوان'), (5.066747e-07, 'تنگنا')], -12.676639216670269)\n",
      "--------------------------------------------------\n",
      "([(0.68803704, 'چون'), (0.07997066, 'حال'), (0.078855194, 'طلب'), (0.071783885, 'در'), (0.050547257, 'مرد'), (0.014313337, 'نشسته'), (0.011501556, 'ز'), (0.0041713584, '#است'), (2.5429966e-07, 'رهبر'), (2.5429966e-07, 'سفید'), (2.5429966e-07, 'قابل'), (2.5429966e-07, 'بباید'), (2.5429966e-07, 'خنک'), (2.5429966e-07, 'حیرتم'), (2.5429966e-07, 'تنگنا'), (2.5429966e-07, 'کرانه'), (2.5429966e-07, 'ولیک'), (2.5429966e-07, 'فن'), (2.5429966e-07, 'حیوان'), (2.5429966e-07, 'نمی\\u200cباید')], -13.04038484969595)\n",
      "--------------------------------------------------\n",
      "([(0.46358445, 'هم'), (0.22002746, 'لب'), (0.08464264, 'و'), (0.063795954, 'لعل'), (0.057705052, 'گاه'), (0.04915223, 'گه'), (0.026713574, 'بخشید#بخش'), (0.02586565, 'دوا'), (0.0076227356, 'گفته'), (2.7623676e-07, 'مرجان'), (2.7623676e-07, 'خنک'), (2.7623676e-07, 'رهبر'), (2.7623676e-07, 'چشمه_خورشید'), (2.7623676e-07, 'بباید'), (2.7623676e-07, 'حیوان'), (2.7623676e-07, 'نمی\\u200cباید'), (2.7623676e-07, 'حیرتم'), (2.7623676e-07, 'تنگنا'), (2.7623676e-07, 'قابل'), (2.7623676e-07, 'گزید')], -13.171098872431635)\n",
      "--------------------------------------------------\n",
      "([(0.85719424, 'شد#شو'), (0.06136364, 'جای'), (0.046382304, 'شراب'), (0.016200718, 'اکنون'), (0.009086333, 'امن'), (0.0049528573, 'مهربان'), (0.002615485, 'کارت'), (0.0011374223, 'به'), (0.00038451495, 'و'), (2.1172914e-07, 'فن'), (2.1172914e-07, 'ولیک'), (2.1172914e-07, 'مرجان'), (2.1172914e-07, 'قابل'), (2.1172914e-07, 'بباید'), (2.1172914e-07, 'گزید'), (2.1172914e-07, 'حیرتم'), (2.1172914e-07, 'تنگنا'), (2.1172914e-07, 'کرانه'), (2.1172914e-07, 'حیوان'), (2.1172914e-07, 'مپسند')], -13.234030451499489)\n",
      "--------------------------------------------------\n",
      "([(0.6979986, 'یک'), (0.19047837, 'زبان'), (0.05832093, 'پروانه'), (0.022450896, 'کوشش'), (0.02028266, 'خندان'), (0.00406554, 'تو'), (0.0037990215, 'دل'), (0.0010805721, 'و'), (4.7253218e-07, 'مپسند'), (4.7253218e-07, 'متاع'), (4.7253218e-07, 'قابل'), (4.7253218e-07, 'حیوان'), (4.7253218e-07, 'حیرتم'), (4.7253218e-07, 'رهبر'), (4.7253218e-07, 'تنگنا'), (4.7253218e-07, 'کرانه'), (4.7253218e-07, 'ولیک'), (4.7253218e-07, 'مرجان'), (4.7253218e-07, 'بباید'), (4.7253218e-07, 'گزید')], -13.359804082185567)\n",
      "--------------------------------------------------\n",
      "([(0.51333255, 'همه'), (0.10428632, 'نام'), (0.09913042, 'و'), (0.06670127, 'رند'), (0.06596315, 'ولی'), (0.05921573, 'سود'), (0.035754986, 'این'), (0.023498276, 'زیان'), (0.01737338, 'رقم'), (0.013468995, 'پذیرفت#پذیر'), (3.9566387e-07, 'چشمه_خورشید'), (3.9566387e-07, 'بباید'), (3.9566387e-07, 'حیوان'), (3.9566387e-07, 'قابل'), (3.9566387e-07, 'تنگنا'), (3.9566387e-07, 'کرانه'), (3.9566387e-07, 'ولیک'), (3.9566387e-07, 'طفل'), (3.9566387e-07, 'حیرتم'), (3.9566387e-07, 'آثار')], -13.399915161599443)\n",
      "--------------------------------------------------\n"
     ]
    },
    {
     "name": "stdout",
     "output_type": "stream",
     "text": [
      "([(0.42359638, 'جام'), (0.13888969, 'وز'), (0.13718332, 'بنده'), (0.10958121, 'رساند#رسان'), (0.081058174, 'برو'), (0.05561057, 'را'), (0.030282278, 'شیخ'), (0.011498017, '#است'), (0.009610682, 'مرید'), (8.345772e-07, 'کرانه'), (8.345772e-07, 'ولیک'), (8.345772e-07, 'سفید'), (8.345772e-07, 'نقش_نگین'), (8.345772e-07, 'پیشت'), (8.345772e-07, 'سرو_خرامان'), (8.345772e-07, 'آور'), (8.345772e-07, 'بباید'), (8.345772e-07, 'تنگنا'), (8.345772e-07, 'طفل'), (8.345772e-07, 'حیرتم')], -14.157564054087606)\n",
      "--------------------------------------------------\n",
      "([(0.32653475, 'کز'), (0.27095252, 'صبح'), (0.24354704, 'هوا'), (0.11982186, 'امروز'), (0.018513653, 'بانگ'), (0.008139523, 'خنک'), (0.0073834327, 'این'), (0.003388299, 'گنبد'), (5.332077e-07, 'ولیک'), (5.332077e-07, 'رهبر'), (5.332077e-07, 'مپسند'), (5.332077e-07, 'سفید'), (5.332077e-07, 'حیوان'), (5.332077e-07, 'بباید'), (5.332077e-07, 'گزید'), (5.332077e-07, 'حیرتم'), (5.332077e-07, 'تنگنا'), (5.332077e-07, 'کرانه'), (5.332077e-07, 'مرجان'), (5.332077e-07, 'نقش_نگین')], -15.849517246804375)\n",
      "--------------------------------------------------\n",
      "([(0.00030940596, 'حیوان'), (0.00030940596, 'نمی\\u200cباید'), (0.00030940596, 'مپسند'), (0.00030940596, 'رهبر'), (0.00030940596, 'نقش_نگین'), (0.00030940596, 'گزید'), (0.00030940596, 'قابل'), (0.00030940596, 'تست'), (0.00030940596, 'بباید'), (0.00030940596, 'حیرتم'), (0.00030940596, 'تنگنا'), (0.00030940596, 'کرانه'), (0.00030940596, 'ولیک'), (0.00030940596, 'طفل'), (0.00030940596, 'سفید'), (0.00030940596, 'پیشت'), (0.00030940596, 'سرو_خرامان'), (0.00030940596, 'مرجان'), (0.00030940596, 'دلیل'), (0.00030940596, 'چشمه_خورشید')], -18.47187532275684)\n",
      "--------------------------------------------------\n",
      "([(0.00030940596, 'حیوان'), (0.00030940596, 'نمی\\u200cباید'), (0.00030940596, 'مپسند'), (0.00030940596, 'رهبر'), (0.00030940596, 'نقش_نگین'), (0.00030940596, 'گزید'), (0.00030940596, 'قابل'), (0.00030940596, 'تست'), (0.00030940596, 'بباید'), (0.00030940596, 'حیرتم'), (0.00030940596, 'تنگنا'), (0.00030940596, 'کرانه'), (0.00030940596, 'ولیک'), (0.00030940596, 'طفل'), (0.00030940596, 'سفید'), (0.00030940596, 'پیشت'), (0.00030940596, 'سرو_خرامان'), (0.00030940596, 'مرجان'), (0.00030940596, 'دلیل'), (0.00030940596, 'چشمه_خورشید')], -18.47187532275684)\n",
      "--------------------------------------------------\n",
      "([(0.00030940596, 'حیوان'), (0.00030940596, 'نمی\\u200cباید'), (0.00030940596, 'مپسند'), (0.00030940596, 'رهبر'), (0.00030940596, 'نقش_نگین'), (0.00030940596, 'گزید'), (0.00030940596, 'قابل'), (0.00030940596, 'تست'), (0.00030940596, 'بباید'), (0.00030940596, 'حیرتم'), (0.00030940596, 'تنگنا'), (0.00030940596, 'کرانه'), (0.00030940596, 'ولیک'), (0.00030940596, 'طفل'), (0.00030940596, 'سفید'), (0.00030940596, 'پیشت'), (0.00030940596, 'سرو_خرامان'), (0.00030940596, 'مرجان'), (0.00030940596, 'دلیل'), (0.00030940596, 'چشمه_خورشید')], -18.47187532275684)\n",
      "--------------------------------------------------\n",
      "([(0.00030940596, 'حیوان'), (0.00030940596, 'نمی\\u200cباید'), (0.00030940596, 'مپسند'), (0.00030940596, 'رهبر'), (0.00030940596, 'نقش_نگین'), (0.00030940596, 'گزید'), (0.00030940596, 'قابل'), (0.00030940596, 'تست'), (0.00030940596, 'بباید'), (0.00030940596, 'حیرتم'), (0.00030940596, 'تنگنا'), (0.00030940596, 'کرانه'), (0.00030940596, 'ولیک'), (0.00030940596, 'طفل'), (0.00030940596, 'سفید'), (0.00030940596, 'پیشت'), (0.00030940596, 'سرو_خرامان'), (0.00030940596, 'مرجان'), (0.00030940596, 'دلیل'), (0.00030940596, 'چشمه_خورشید')], -18.47187532275684)\n",
      "--------------------------------------------------\n",
      "([(0.00030940596, 'حیوان'), (0.00030940596, 'نمی\\u200cباید'), (0.00030940596, 'مپسند'), (0.00030940596, 'رهبر'), (0.00030940596, 'نقش_نگین'), (0.00030940596, 'گزید'), (0.00030940596, 'قابل'), (0.00030940596, 'تست'), (0.00030940596, 'بباید'), (0.00030940596, 'حیرتم'), (0.00030940596, 'تنگنا'), (0.00030940596, 'کرانه'), (0.00030940596, 'ولیک'), (0.00030940596, 'طفل'), (0.00030940596, 'سفید'), (0.00030940596, 'پیشت'), (0.00030940596, 'سرو_خرامان'), (0.00030940596, 'مرجان'), (0.00030940596, 'دلیل'), (0.00030940596, 'چشمه_خورشید')], -18.47187532275684)\n",
      "--------------------------------------------------\n",
      "([(0.00030940596, 'حیوان'), (0.00030940596, 'نمی\\u200cباید'), (0.00030940596, 'مپسند'), (0.00030940596, 'رهبر'), (0.00030940596, 'نقش_نگین'), (0.00030940596, 'گزید'), (0.00030940596, 'قابل'), (0.00030940596, 'تست'), (0.00030940596, 'بباید'), (0.00030940596, 'حیرتم'), (0.00030940596, 'تنگنا'), (0.00030940596, 'کرانه'), (0.00030940596, 'ولیک'), (0.00030940596, 'طفل'), (0.00030940596, 'سفید'), (0.00030940596, 'پیشت'), (0.00030940596, 'سرو_خرامان'), (0.00030940596, 'مرجان'), (0.00030940596, 'دلیل'), (0.00030940596, 'چشمه_خورشید')], -18.47187532275684)\n",
      "--------------------------------------------------\n",
      "([(0.00030940596, 'حیوان'), (0.00030940596, 'نمی\\u200cباید'), (0.00030940596, 'مپسند'), (0.00030940596, 'رهبر'), (0.00030940596, 'نقش_نگین'), (0.00030940596, 'گزید'), (0.00030940596, 'قابل'), (0.00030940596, 'تست'), (0.00030940596, 'بباید'), (0.00030940596, 'حیرتم'), (0.00030940596, 'تنگنا'), (0.00030940596, 'کرانه'), (0.00030940596, 'ولیک'), (0.00030940596, 'طفل'), (0.00030940596, 'سفید'), (0.00030940596, 'پیشت'), (0.00030940596, 'سرو_خرامان'), (0.00030940596, 'مرجان'), (0.00030940596, 'دلیل'), (0.00030940596, 'چشمه_خورشید')], -18.47187532275684)\n",
      "--------------------------------------------------\n",
      "([(0.00030940596, 'حیوان'), (0.00030940596, 'نمی\\u200cباید'), (0.00030940596, 'مپسند'), (0.00030940596, 'رهبر'), (0.00030940596, 'نقش_نگین'), (0.00030940596, 'گزید'), (0.00030940596, 'قابل'), (0.00030940596, 'تست'), (0.00030940596, 'بباید'), (0.00030940596, 'حیرتم'), (0.00030940596, 'تنگنا'), (0.00030940596, 'کرانه'), (0.00030940596, 'ولیک'), (0.00030940596, 'طفل'), (0.00030940596, 'سفید'), (0.00030940596, 'پیشت'), (0.00030940596, 'سرو_خرامان'), (0.00030940596, 'مرجان'), (0.00030940596, 'دلیل'), (0.00030940596, 'چشمه_خورشید')], -18.47187532275684)\n",
      "--------------------------------------------------\n",
      "([(0.00030940596, 'حیوان'), (0.00030940596, 'نمی\\u200cباید'), (0.00030940596, 'مپسند'), (0.00030940596, 'رهبر'), (0.00030940596, 'نقش_نگین'), (0.00030940596, 'گزید'), (0.00030940596, 'قابل'), (0.00030940596, 'تست'), (0.00030940596, 'بباید'), (0.00030940596, 'حیرتم'), (0.00030940596, 'تنگنا'), (0.00030940596, 'کرانه'), (0.00030940596, 'ولیک'), (0.00030940596, 'طفل'), (0.00030940596, 'سفید'), (0.00030940596, 'پیشت'), (0.00030940596, 'سرو_خرامان'), (0.00030940596, 'مرجان'), (0.00030940596, 'دلیل'), (0.00030940596, 'چشمه_خورشید')], -18.47187532275684)\n",
      "--------------------------------------------------\n",
      "([(0.00030940596, 'حیوان'), (0.00030940596, 'نمی\\u200cباید'), (0.00030940596, 'مپسند'), (0.00030940596, 'رهبر'), (0.00030940596, 'نقش_نگین'), (0.00030940596, 'گزید'), (0.00030940596, 'قابل'), (0.00030940596, 'تست'), (0.00030940596, 'بباید'), (0.00030940596, 'حیرتم'), (0.00030940596, 'تنگنا'), (0.00030940596, 'کرانه'), (0.00030940596, 'ولیک'), (0.00030940596, 'طفل'), (0.00030940596, 'سفید'), (0.00030940596, 'پیشت'), (0.00030940596, 'سرو_خرامان'), (0.00030940596, 'مرجان'), (0.00030940596, 'دلیل'), (0.00030940596, 'چشمه_خورشید')], -18.47187532275684)\n",
      "--------------------------------------------------\n",
      "([(0.00030940596, 'حیوان'), (0.00030940596, 'نمی\\u200cباید'), (0.00030940596, 'مپسند'), (0.00030940596, 'رهبر'), (0.00030940596, 'نقش_نگین'), (0.00030940596, 'گزید'), (0.00030940596, 'قابل'), (0.00030940596, 'تست'), (0.00030940596, 'بباید'), (0.00030940596, 'حیرتم'), (0.00030940596, 'تنگنا'), (0.00030940596, 'کرانه'), (0.00030940596, 'ولیک'), (0.00030940596, 'طفل'), (0.00030940596, 'سفید'), (0.00030940596, 'پیشت'), (0.00030940596, 'سرو_خرامان'), (0.00030940596, 'مرجان'), (0.00030940596, 'دلیل'), (0.00030940596, 'چشمه_خورشید')], -18.47187532275684)\n",
      "--------------------------------------------------\n",
      "([(0.00030940596, 'حیوان'), (0.00030940596, 'نمی\\u200cباید'), (0.00030940596, 'مپسند'), (0.00030940596, 'رهبر'), (0.00030940596, 'نقش_نگین'), (0.00030940596, 'گزید'), (0.00030940596, 'قابل'), (0.00030940596, 'تست'), (0.00030940596, 'بباید'), (0.00030940596, 'حیرتم'), (0.00030940596, 'تنگنا'), (0.00030940596, 'کرانه'), (0.00030940596, 'ولیک'), (0.00030940596, 'طفل'), (0.00030940596, 'سفید'), (0.00030940596, 'پیشت'), (0.00030940596, 'سرو_خرامان'), (0.00030940596, 'مرجان'), (0.00030940596, 'دلیل'), (0.00030940596, 'چشمه_خورشید')], -18.47187532275684)\n",
      "--------------------------------------------------\n"
     ]
    },
    {
     "name": "stdout",
     "output_type": "stream",
     "text": [
      "([(0.00030940596, 'حیوان'), (0.00030940596, 'نمی\\u200cباید'), (0.00030940596, 'مپسند'), (0.00030940596, 'رهبر'), (0.00030940596, 'نقش_نگین'), (0.00030940596, 'گزید'), (0.00030940596, 'قابل'), (0.00030940596, 'تست'), (0.00030940596, 'بباید'), (0.00030940596, 'حیرتم'), (0.00030940596, 'تنگنا'), (0.00030940596, 'کرانه'), (0.00030940596, 'ولیک'), (0.00030940596, 'طفل'), (0.00030940596, 'سفید'), (0.00030940596, 'پیشت'), (0.00030940596, 'سرو_خرامان'), (0.00030940596, 'مرجان'), (0.00030940596, 'دلیل'), (0.00030940596, 'چشمه_خورشید')], -18.47187532275684)\n",
      "--------------------------------------------------\n",
      "([(0.00030940596, 'حیوان'), (0.00030940596, 'نمی\\u200cباید'), (0.00030940596, 'مپسند'), (0.00030940596, 'رهبر'), (0.00030940596, 'نقش_نگین'), (0.00030940596, 'گزید'), (0.00030940596, 'قابل'), (0.00030940596, 'تست'), (0.00030940596, 'بباید'), (0.00030940596, 'حیرتم'), (0.00030940596, 'تنگنا'), (0.00030940596, 'کرانه'), (0.00030940596, 'ولیک'), (0.00030940596, 'طفل'), (0.00030940596, 'سفید'), (0.00030940596, 'پیشت'), (0.00030940596, 'سرو_خرامان'), (0.00030940596, 'مرجان'), (0.00030940596, 'دلیل'), (0.00030940596, 'چشمه_خورشید')], -18.47187532275684)\n",
      "--------------------------------------------------\n",
      "([(0.00030940596, 'حیوان'), (0.00030940596, 'نمی\\u200cباید'), (0.00030940596, 'مپسند'), (0.00030940596, 'رهبر'), (0.00030940596, 'نقش_نگین'), (0.00030940596, 'گزید'), (0.00030940596, 'قابل'), (0.00030940596, 'تست'), (0.00030940596, 'بباید'), (0.00030940596, 'حیرتم'), (0.00030940596, 'تنگنا'), (0.00030940596, 'کرانه'), (0.00030940596, 'ولیک'), (0.00030940596, 'طفل'), (0.00030940596, 'سفید'), (0.00030940596, 'پیشت'), (0.00030940596, 'سرو_خرامان'), (0.00030940596, 'مرجان'), (0.00030940596, 'دلیل'), (0.00030940596, 'چشمه_خورشید')], -18.47187532275684)\n",
      "--------------------------------------------------\n",
      "([(0.00030940596, 'حیوان'), (0.00030940596, 'نمی\\u200cباید'), (0.00030940596, 'مپسند'), (0.00030940596, 'رهبر'), (0.00030940596, 'نقش_نگین'), (0.00030940596, 'گزید'), (0.00030940596, 'قابل'), (0.00030940596, 'تست'), (0.00030940596, 'بباید'), (0.00030940596, 'حیرتم'), (0.00030940596, 'تنگنا'), (0.00030940596, 'کرانه'), (0.00030940596, 'ولیک'), (0.00030940596, 'طفل'), (0.00030940596, 'سفید'), (0.00030940596, 'پیشت'), (0.00030940596, 'سرو_خرامان'), (0.00030940596, 'مرجان'), (0.00030940596, 'دلیل'), (0.00030940596, 'چشمه_خورشید')], -18.47187532275684)\n",
      "--------------------------------------------------\n",
      "([(0.00030940596, 'حیوان'), (0.00030940596, 'نمی\\u200cباید'), (0.00030940596, 'مپسند'), (0.00030940596, 'رهبر'), (0.00030940596, 'نقش_نگین'), (0.00030940596, 'گزید'), (0.00030940596, 'قابل'), (0.00030940596, 'تست'), (0.00030940596, 'بباید'), (0.00030940596, 'حیرتم'), (0.00030940596, 'تنگنا'), (0.00030940596, 'کرانه'), (0.00030940596, 'ولیک'), (0.00030940596, 'طفل'), (0.00030940596, 'سفید'), (0.00030940596, 'پیشت'), (0.00030940596, 'سرو_خرامان'), (0.00030940596, 'مرجان'), (0.00030940596, 'دلیل'), (0.00030940596, 'چشمه_خورشید')], -18.47187532275684)\n",
      "--------------------------------------------------\n",
      "([(0.00030940596, 'حیوان'), (0.00030940596, 'نمی\\u200cباید'), (0.00030940596, 'مپسند'), (0.00030940596, 'رهبر'), (0.00030940596, 'نقش_نگین'), (0.00030940596, 'گزید'), (0.00030940596, 'قابل'), (0.00030940596, 'تست'), (0.00030940596, 'بباید'), (0.00030940596, 'حیرتم'), (0.00030940596, 'تنگنا'), (0.00030940596, 'کرانه'), (0.00030940596, 'ولیک'), (0.00030940596, 'طفل'), (0.00030940596, 'سفید'), (0.00030940596, 'پیشت'), (0.00030940596, 'سرو_خرامان'), (0.00030940596, 'مرجان'), (0.00030940596, 'دلیل'), (0.00030940596, 'چشمه_خورشید')], -18.47187532275684)\n",
      "--------------------------------------------------\n",
      "([(0.00030940596, 'حیوان'), (0.00030940596, 'نمی\\u200cباید'), (0.00030940596, 'مپسند'), (0.00030940596, 'رهبر'), (0.00030940596, 'نقش_نگین'), (0.00030940596, 'گزید'), (0.00030940596, 'قابل'), (0.00030940596, 'تست'), (0.00030940596, 'بباید'), (0.00030940596, 'حیرتم'), (0.00030940596, 'تنگنا'), (0.00030940596, 'کرانه'), (0.00030940596, 'ولیک'), (0.00030940596, 'طفل'), (0.00030940596, 'سفید'), (0.00030940596, 'پیشت'), (0.00030940596, 'سرو_خرامان'), (0.00030940596, 'مرجان'), (0.00030940596, 'دلیل'), (0.00030940596, 'چشمه_خورشید')], -18.47187532275684)\n",
      "--------------------------------------------------\n"
     ]
    }
   ],
   "source": [
    "for i in range(lda_model.num_topics):\n",
    "    print(lda_model.top_topics(corpus=corpus)[i])\n",
    "    print('-'*50)"
   ]
  },
  {
   "cell_type": "code",
   "execution_count": 182,
   "id": "41c4794b",
   "metadata": {},
   "outputs": [],
   "source": [
    "corpus_infered = lda_model[corpus]"
   ]
  },
  {
   "cell_type": "code",
   "execution_count": 183,
   "id": "98e98791",
   "metadata": {},
   "outputs": [
    {
     "name": "stdout",
     "output_type": "stream",
     "text": [
      "Perplexity:  -27.21\n",
      "Coherence Score:  0.31\n"
     ]
    }
   ],
   "source": [
    "from gensim.models import CoherenceModel\n",
    "\n",
    "# Compute Perplexity (lower is better)\n",
    "print('Perplexity: ', round(lda_model.log_perplexity(corpus), 2))\n",
    "\n",
    "# Compute Coherence Score (higher is better)\n",
    "coherence_model_lda = CoherenceModel(model=lda_model, texts=data_preprocessed, dictionary=id2word, coherence='c_v')\n",
    "coherence_lda = coherence_model_lda.get_coherence()\n",
    "print('Coherence Score: ', round(coherence_lda, 2))"
   ]
  },
  {
   "cell_type": "code",
   "execution_count": 184,
   "id": "d3d5a83a",
   "metadata": {},
   "outputs": [],
   "source": [
    "def calc_query_LDA_likelihood(top_stats, query):\n",
    "    topic_probs = np.full((1,lda_model.num_topics), 0.0001)\n",
    "    for topics, probs in top_stats:\n",
    "        topic_probs[0, topics] = probs\n",
    "    return np.exp(np.sum(np.log(topic_probs @ lda_model.expElogbeta[:,query])))\n"
   ]
  },
  {
   "cell_type": "code",
   "execution_count": 185,
   "id": "1e16f267",
   "metadata": {},
   "outputs": [],
   "source": [
    "corpus_infered.save(\"./results/lda_inferred_corp\")"
   ]
  },
  {
   "cell_type": "code",
   "execution_count": 186,
   "id": "e6beedf8",
   "metadata": {},
   "outputs": [],
   "source": [
    "id2word.save('./results/lda_dict')"
   ]
  },
  {
   "cell_type": "code",
   "execution_count": 187,
   "id": "bd9b0219",
   "metadata": {},
   "outputs": [],
   "source": [
    "from tqdm import tqdm\n",
    "\n",
    "def search(q):\n",
    "    text = word_tokenize(q)\n",
    "    text = [normalizer.normalize(w) for w in text]\n",
    "    text = [lemmatizer.lemmatize(w) for w in text]\n",
    "    doc = id2word.doc2idx(text)\n",
    "    doc = list(filter(lambda a: a != -1, doc))\n",
    "    res = list(map(lambda x: calc_query_LDA_likelihood(x, doc), tqdm(corpus_infered)))\n",
    "    res = np.array(res)\n",
    "    return np.argsort(res)[::-1]"
   ]
  },
  {
   "cell_type": "code",
   "execution_count": 188,
   "id": "218ccf74",
   "metadata": {},
   "outputs": [
    {
     "name": "stderr",
     "output_type": "stream",
     "text": [
      "100%|██████████| 164854/164854 [01:20<00:00, 2046.31it/s]\n"
     ]
    }
   ],
   "source": [
    "pq_d = search('شهریار زیر آفتاب خورشید ماهی خورد')"
   ]
  },
  {
   "cell_type": "code",
   "execution_count": 189,
   "id": "624e91cc",
   "metadata": {},
   "outputs": [
    {
     "data": {
      "text/plain": [
       "beyt index\n",
       "97064     ماه من روشن شده از آفتاب بر سپهر جان چنین مه هست نیست                              \n",
       "27412     سفری فتاد جان را به ولایت معانی که سپهر و ماه گوید که چنین سفر ندارم               \n",
       "152825    دوسه‌گام آخر ازین‌گذر توگران قدم زن و پا سبک اگرت به منظر بی‌نشان دم همتی بکشد عنان\n",
       "68128     اوحدی امسال اگر آهنگ رفتن می‌کند گو: سفر می‌کن، که من حیران آن ماهم دگر            \n",
       "21850     هله برجه هله برجه که ز خورشید سفر به قدم از خانه به در نه همگان را به سفر بر       \n",
       "131763    اگر به قدر عدس دیده‌اند دنیا را به احتیاط قدم زن‌که عافیت‌طلبان                    \n",
       "43088     اگر چه سیل بنالد ز راه ناهموار قدم قدم بودش در سفر تماشایی                         \n",
       "123339    زعجز شب پرهٔ آفتاب را چه ملامت ترا چه غم که بمیرد هزار همچو من از غم               \n",
       "49553     در پرتو آفتاب رویت خورشید سپهر ذره کردار                                           \n",
       "34710     ای آفتاب روی تو کرده هزیمت ماه را و آن ماه در راه آمده از هزم تو پا کوفته          \n",
       "161593    اگر بر هم نهی چشمی و طومار نظر پیچی اگر فقر از تو می‌نالد و گر جاه از تو می‌بالد   \n",
       "23268     غم تو بر سفرم زیر زیر می‌خندد که واقفست از این عشق زینهارآمیز                      \n",
       "80762     ریاض بهشتی بدین روح بخشی چراغ سپهری بدین تابناکی                                   \n",
       "75631     ماه فرو رفت و آفتاب برآمد شاهد سرمست من ز خواب برآمد                               \n",
       "130658    به نیم ملک بچربید نیم درویشی چه آسمان و چه انجم چه آفتاب چه ماه                    \n",
       "56255     میگیر درم قفا همی خور با رندی و عیبها عیون شو                                      \n",
       "17136     آن باده همانست اگر شیشه بدل شد بنگر که چه خوش بر سر خمار برآمد                     \n",
       "17245     آن باده همانست اگر شیشه بدل شد بنگر که چه خوش بر سر خمار برآمد                     \n",
       "61802     طاق پذیر است عشق جفت نخواهد حریف بر نمط عشق اگر پای نهی طاق نه                     \n",
       "100510    بر سر دار اگر نهی قدمی نعمت الله بود تو را سردار                                   \n",
       "Name: beyt, dtype: object"
      ]
     },
     "execution_count": 189,
     "metadata": {},
     "output_type": "execute_result"
    }
   ],
   "source": [
    "pd.set_option('display.width', None)\n",
    "pd.set_option('display.max_columns', None)\n",
    "pd.set_option('display.max_colwidth', 0)\n",
    "\n",
    "df['beyt'][pq_d[:20]]"
   ]
  },
  {
   "cell_type": "code",
   "execution_count": 190,
   "id": "94191a3e",
   "metadata": {},
   "outputs": [],
   "source": [
    "def get_precision_at_k_score(ground_truth, preds, k):\n",
    "    ground_truth = set(ground_truth)\n",
    "    preds = set(preds[:k])\n",
    "    intersection = ground_truth.intersection(preds)\n",
    "    return len(intersection) / min(k, len(ground_truth))"
   ]
  },
  {
   "cell_type": "code",
   "execution_count": 191,
   "id": "728dc747",
   "metadata": {},
   "outputs": [],
   "source": [
    "import pickle"
   ]
  },
  {
   "cell_type": "code",
   "execution_count": 192,
   "id": "10c6cdca",
   "metadata": {},
   "outputs": [],
   "source": [
    "ranks1 = pickle.load(open('./small_eval/eval_ranks1.pkl', 'rb'))\n",
    "ranks2 = pickle.load(open('./small_eval/eval_ranks2.pkl', 'rb'))\n",
    "queries1 = pickle.load(open('./small_eval/queries1.pkl', 'rb'))\n",
    "queries2 = pickle.load(open('./small_eval/queries2.pkl', 'rb'))\n",
    "ranks = ranks1 + ranks2\n",
    "queries = queries1 + queries2"
   ]
  },
  {
   "cell_type": "code",
   "execution_count": 194,
   "id": "1f3a3c63",
   "metadata": {},
   "outputs": [
    {
     "name": "stderr",
     "output_type": "stream",
     "text": [
      "100%|██████████| 164854/164854 [01:20<00:00, 2051.47it/s]\n",
      "100%|██████████| 164854/164854 [01:20<00:00, 2044.91it/s]\n",
      "100%|██████████| 164854/164854 [01:20<00:00, 2046.31it/s]\n",
      "100%|██████████| 164854/164854 [01:20<00:00, 2043.02it/s]\n",
      "100%|██████████| 164854/164854 [01:20<00:00, 2039.58it/s]\n",
      "100%|██████████| 164854/164854 [01:20<00:00, 2042.83it/s]\n",
      "100%|██████████| 164854/164854 [01:20<00:00, 2046.61it/s]\n",
      "100%|██████████| 164854/164854 [01:20<00:00, 2054.73it/s]\n",
      "100%|██████████| 164854/164854 [01:44<00:00, 1574.47it/s]\n",
      "100%|██████████| 164854/164854 [01:55<00:00, 1430.05it/s]\n",
      "100%|██████████| 164854/164854 [01:54<00:00, 1442.83it/s]\n",
      "100%|██████████| 164854/164854 [01:54<00:00, 1440.04it/s]\n",
      "100%|██████████| 164854/164854 [01:54<00:00, 1444.71it/s]\n",
      "100%|██████████| 164854/164854 [01:54<00:00, 1433.63it/s]\n",
      "100%|██████████| 164854/164854 [01:53<00:00, 1456.20it/s]\n",
      "100%|██████████| 164854/164854 [01:44<00:00, 1571.99it/s]\n",
      "100%|██████████| 164854/164854 [01:20<00:00, 2035.65it/s]\n",
      "100%|██████████| 164854/164854 [01:21<00:00, 2013.98it/s]\n",
      "100%|██████████| 164854/164854 [01:21<00:00, 2014.53it/s]\n",
      "100%|██████████| 164854/164854 [01:21<00:00, 2023.74it/s]\n",
      "100%|██████████| 164854/164854 [01:21<00:00, 2033.56it/s]\n",
      "100%|██████████| 164854/164854 [01:21<00:00, 2029.04it/s]\n",
      "100%|██████████| 164854/164854 [01:20<00:00, 2042.98it/s]\n",
      "100%|██████████| 164854/164854 [01:20<00:00, 2041.66it/s]\n",
      "100%|██████████| 164854/164854 [01:20<00:00, 2041.50it/s]\n",
      "100%|██████████| 164854/164854 [01:20<00:00, 2049.00it/s]\n",
      "100%|██████████| 164854/164854 [01:20<00:00, 2043.83it/s]\n",
      "100%|██████████| 164854/164854 [01:20<00:00, 2043.45it/s]\n",
      "100%|██████████| 164854/164854 [01:21<00:00, 2029.72it/s]\n",
      "100%|██████████| 164854/164854 [01:20<00:00, 2044.16it/s]\n",
      "100%|██████████| 164854/164854 [01:20<00:00, 2039.83it/s]\n",
      "100%|██████████| 164854/164854 [01:20<00:00, 2035.53it/s]\n",
      "100%|██████████| 164854/164854 [01:21<00:00, 2032.00it/s]\n",
      "100%|██████████| 164854/164854 [01:20<00:00, 2049.28it/s]\n",
      "100%|██████████| 164854/164854 [01:20<00:00, 2057.23it/s]\n",
      "100%|██████████| 164854/164854 [01:20<00:00, 2043.38it/s]\n",
      "100%|██████████| 164854/164854 [01:20<00:00, 2054.47it/s]\n",
      "100%|██████████| 164854/164854 [01:20<00:00, 2047.21it/s]\n",
      "100%|██████████| 164854/164854 [01:20<00:00, 2044.01it/s]\n",
      "100%|██████████| 164854/164854 [01:20<00:00, 2040.84it/s]\n",
      "100%|██████████| 164854/164854 [01:20<00:00, 2049.22it/s]\n",
      "100%|██████████| 164854/164854 [01:21<00:00, 2029.49it/s]\n",
      "100%|██████████| 164854/164854 [01:20<00:00, 2043.94it/s]\n",
      "100%|██████████| 164854/164854 [01:20<00:00, 2047.73it/s]\n",
      "100%|██████████| 164854/164854 [01:20<00:00, 2050.57it/s]\n",
      "100%|██████████| 164854/164854 [01:20<00:00, 2045.66it/s]\n",
      "100%|██████████| 164854/164854 [01:20<00:00, 2048.38it/s]\n",
      "100%|██████████| 164854/164854 [01:20<00:00, 2047.19it/s]\n",
      "100%|██████████| 164854/164854 [01:20<00:00, 2052.52it/s]\n",
      "100%|██████████| 164854/164854 [01:20<00:00, 2052.11it/s]\n",
      "100%|██████████| 164854/164854 [01:20<00:00, 2041.63it/s]\n",
      "100%|██████████| 164854/164854 [01:20<00:00, 2044.94it/s]\n",
      "100%|██████████| 164854/164854 [01:20<00:00, 2044.92it/s]\n",
      "100%|██████████| 164854/164854 [01:20<00:00, 2043.88it/s]\n",
      "100%|██████████| 164854/164854 [01:20<00:00, 2056.36it/s]\n",
      "100%|██████████| 164854/164854 [01:20<00:00, 2039.45it/s]\n",
      "100%|██████████| 164854/164854 [01:20<00:00, 2042.51it/s]\n",
      "100%|██████████| 164854/164854 [01:20<00:00, 2050.36it/s]\n",
      "100%|██████████| 164854/164854 [01:20<00:00, 2044.28it/s]\n",
      "100%|██████████| 164854/164854 [01:20<00:00, 2053.35it/s]\n",
      "100%|██████████| 164854/164854 [01:20<00:00, 2054.91it/s]\n",
      "100%|██████████| 164854/164854 [01:20<00:00, 2055.05it/s]\n",
      "100%|██████████| 164854/164854 [01:20<00:00, 2046.51it/s]\n",
      "100%|██████████| 164854/164854 [01:20<00:00, 2049.95it/s]\n",
      "100%|██████████| 164854/164854 [01:20<00:00, 2049.29it/s]\n",
      "100%|██████████| 164854/164854 [01:20<00:00, 2041.07it/s]\n",
      "100%|██████████| 164854/164854 [01:20<00:00, 2045.50it/s]\n",
      "100%|██████████| 164854/164854 [01:20<00:00, 2045.24it/s]\n",
      "100%|██████████| 164854/164854 [01:20<00:00, 2042.84it/s]\n",
      "100%|██████████| 164854/164854 [01:20<00:00, 2052.59it/s]\n",
      "100%|██████████| 164854/164854 [01:20<00:00, 2045.09it/s]\n",
      "100%|██████████| 164854/164854 [01:20<00:00, 2054.04it/s]\n",
      "100%|██████████| 164854/164854 [01:20<00:00, 2044.32it/s]\n",
      "100%|██████████| 164854/164854 [01:20<00:00, 2052.62it/s]\n",
      "100%|██████████| 164854/164854 [01:20<00:00, 2047.32it/s]\n",
      "100%|██████████| 164854/164854 [01:20<00:00, 2040.17it/s]\n",
      "100%|██████████| 164854/164854 [01:20<00:00, 2039.10it/s]\n",
      "100%|██████████| 164854/164854 [01:20<00:00, 2051.02it/s]\n",
      "100%|██████████| 164854/164854 [01:20<00:00, 2048.72it/s]\n",
      "100%|██████████| 164854/164854 [01:20<00:00, 2052.74it/s]\n",
      "100%|██████████| 164854/164854 [01:20<00:00, 2047.19it/s]\n",
      "100%|██████████| 164854/164854 [01:20<00:00, 2051.67it/s]\n",
      "100%|██████████| 164854/164854 [01:20<00:00, 2048.94it/s]\n",
      "100%|██████████| 164854/164854 [01:20<00:00, 2050.45it/s]\n",
      "100%|██████████| 164854/164854 [01:21<00:00, 2032.85it/s]\n",
      "100%|██████████| 164854/164854 [01:20<00:00, 2038.32it/s]\n",
      "100%|██████████| 164854/164854 [01:20<00:00, 2047.28it/s]\n",
      "100%|██████████| 164854/164854 [01:20<00:00, 2044.90it/s]\n",
      "100%|██████████| 164854/164854 [01:20<00:00, 2046.86it/s]"
     ]
    },
    {
     "name": "stdout",
     "output_type": "stream",
     "text": [
      "precision_at_k_score for k=1 is 0.36372150786074675\n"
     ]
    },
    {
     "name": "stderr",
     "output_type": "stream",
     "text": [
      "\n"
     ]
    }
   ],
   "source": [
    "for i, q in enumerate(queries):\n",
    "    prec+= get_precision_at_k_score(ranks[i], search(q), 100)\n",
    "print(f\"precision_at_k_score for k={k} is {prec/len(queries)}\")"
   ]
  },
  {
   "cell_type": "code",
   "execution_count": null,
   "id": "1a59b74b",
   "metadata": {},
   "outputs": [],
   "source": []
  }
 ],
 "metadata": {
  "kernelspec": {
   "display_name": "Python 3",
   "language": "python",
   "name": "python3"
  },
  "language_info": {
   "codemirror_mode": {
    "name": "ipython",
    "version": 3
   },
   "file_extension": ".py",
   "mimetype": "text/x-python",
   "name": "python",
   "nbconvert_exporter": "python",
   "pygments_lexer": "ipython3",
   "version": "3.6.9"
  }
 },
 "nbformat": 4,
 "nbformat_minor": 5
}
